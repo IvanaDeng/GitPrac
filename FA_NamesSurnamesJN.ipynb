{
  "cells": [
    {
      "cell_type": "markdown",
      "metadata": {
        "id": "view-in-github",
        "colab_type": "text"
      },
      "source": [
        "<a href=\"https://colab.research.google.com/github/CBDRH-HDAT9500/final-assignment-IvanaDeng/blob/main/FA_NamesSurnames.ipynb\" target=\"_parent\"><img src=\"https://colab.research.google.com/assets/colab-badge.svg\" alt=\"Open In Colab\"/></a>"
      ]
    },
    {
      "cell_type": "markdown",
      "metadata": {
        "id": "1GNrOr-WiKQW"
      },
      "source": [
        "![alt text](https://drive.google.com/uc?export=view&id=1DXUVHxd4t15mfuqMgMCLnsP4jWVI5EWz)\n",
        "\n",
        "---\n",
        "\n",
        "<br>\n",
        "© 2023 Copyright The University of New South Wales - CRICOS 00098G\n",
        "\n",
        "**Authors**: Oscar Perez-Concha.\n",
        "\n",
        "**Communications**: If you have any questions, please email Oscar at: o.perezconcha@unsw.edu.au"
      ]
    },
    {
      "cell_type": "markdown",
      "source": [
        "# Final Assignment (FA)"
      ],
      "metadata": {
        "id": "N6T0wwT_GozJ"
      }
    },
    {
      "cell_type": "markdown",
      "source": [
        "\n",
        "\n",
        "---\n",
        "\n"
      ],
      "metadata": {
        "id": "R1skKevpG0jB"
      }
    },
    {
      "cell_type": "markdown",
      "source": [],
      "metadata": {
        "id": "QmhnQ1KbGY0B"
      }
    },
    {
      "cell_type": "markdown",
      "metadata": {
        "id": "fN4p9w5eiKQY"
      },
      "source": [
        "#####################################################################################\n",
        "\n",
        "Double-click to write down your name and surname.\n",
        "\n",
        "**Name 1 and Surname 1:**\n",
        "\n",
        "**Honour Pledge** <p>\n",
        "    \n",
        "Declaration: <p>\n",
        "    \n",
        "    \n",
        "I declare that this assessment item is my own work, except where acknowledged, and has not been submitted for academic credit elsewhere or previously, or produced independently of this course (e.g. for a third party such as your place of employment) and acknowledge that the assessor of this item may, for the purpose of assessing this item:\n",
        "\n",
        "1. Reproduce this assessment item and provide a copy to another member of the University; and/or\n",
        "\n",
        "2. Communicate a copy of this assessment item to a plagiarism checking service (which may then retain a copy of the assessment item on its database for the purpose of future plagiarism checking).\n",
        "\n",
        "**By writing you name and surname above, you certify that you have read and agreed to the honour pledge.**\n",
        "\n",
        "#####################################################################################"
      ]
    },
    {
      "cell_type": "markdown",
      "source": [
        "#####################################################################################\n",
        "\n",
        "Double-click to write down your name and surname.\n",
        "\n",
        "**Name 2 and Surname 2:** Ivana Deng\n",
        "\n",
        "**Honour Pledge** <p>\n",
        "    \n",
        "    \n",
        "Declaration: <p>\n",
        "    \n",
        "    \n",
        "I declare that this assessment item is my own work, except where acknowledged, and has not been submitted for academic credit elsewhere or previously, or produced independently of this course (e.g. for a third party such as your place of employment) and acknowledge that the assessor of this item may, for the purpose of assessing this item:\n",
        "\n",
        "1. Reproduce this assessment item and provide a copy to another member of the University; and/or\n",
        "\n",
        "2. Communicate a copy of this assessment item to a plagiarism checking service (which may then retain a copy of the assessment item on its database for the purpose of future plagiarism checking).\n",
        "\n",
        "**By wrting you name and surname above, you certify that you have read and agreed to the honour pledge.**\n",
        "\n",
        "#####################################################################################"
      ],
      "metadata": {
        "id": "7EORMEMxuhJS"
      }
    },
    {
      "cell_type": "markdown",
      "source": [
        "---\n",
        "# 1.  Health Data Science Scenario\n",
        "\n",
        "## 1.1. Research Question\n",
        "\n",
        "Our hospital has been very proactive in analysing data from its Electronic Medical Records (EMR). Through this analysis, we've made some interesting discoveries.\n",
        "\n",
        "We identified that readmitted patients are not only those who were sicker during their first admission but also those with less support after discharge or those without medical follow-up post-discharge.\n",
        "Readmitted patients experienced high levels of emotional stress.\n",
        "Readmitted patients were at a significantly higher risk of acquiring new infections while in the hospital.\n",
        "Readmissions are highly costly. Patients who were readmitted for the reasons mentioned above tended to be sicker than during their first admission, and their length of stay was significantly longer than during their first admission."
      ],
      "metadata": {
        "id": "hvLpFjsB9PYz"
      }
    },
    {
      "cell_type": "markdown",
      "source": [
        "Our hospital has implemented a pilot program named \"Redesigning Discharge,\" which involves a \"specialised unit\" that coordinates patients' discharges. This pilot program has been running for a year.\n",
        "\n",
        "This \"specialised unit\" is composed of a team of doctors, nurses, physiotherapists, and occupational therapists.\n",
        "\n",
        "The program consists of two main innovations.\n",
        "\n",
        "1. In the first part of the program, the doctors conduct a new discharge assessment protocol using innovative evidence-based tools to help them decide whether patients are ready to return to their usual place of residence or if it would be more advisable to transfer them to an intermediate or short-term care facility. As such, this program is set to replace the previous protocol concerning where patients should be discharged.\n",
        "\n",
        "2. The second part of the program includes a group of nurses, physiotherapists, and occupational therapists who visit patients at home or in the intermediate facility after discharge. The frequency of these visits is determined by an assessment conducted prior to discharge, averaging about five visits per patient. Among other things, the team's tasks include ensuring proper wound healing, checking medication compliance, coordinating with a general practitioner or the medical team at the intermediate facility, and assessing the patient's ability to perform basic daily activities such as navigating their environment, using the toilet, and showering. Furthermore, the specialised unit maintains regular telephone contact with patients to check on their well-being. Patients are also encouraged to reach out to the unit if they need any assistance.\n",
        "\n",
        "This pilot program has been very successful and it has been welcomed by all the stakeholders. Among other things, the program has significantly reduced the number of hospital readmissions. Moreover, the operating costs for this specialised unit have proven to be considerably lower than the costs associated with readmissions"
      ],
      "metadata": {
        "id": "zXDNhvVF9gAL"
      }
    },
    {
      "cell_type": "markdown",
      "source": [
        "In terms of budget:\n",
        "\n",
        "1. The average cost of a day in the hospital is 6,000 dollars; readmitted patients tend to stay for an average of 4 days.\n",
        "\n",
        "2. An intervention by the specialised unit costs on average 2,000 dollars, which includes the cost of the average number of visits per patient, being 5 visits.\n",
        "\n",
        "3. The cost of an intermediate facility is not considered, as it's covered by Private Health Insurance or other Government Schemes. Additionally, our program is effectively 'donating' a team of medical professionals to these facilities. Therefore, we do not need to account for the cost of these intermediate facilities if a patient is discharged there.\n",
        "\n",
        "Our hospital is now prepared to implement \"Redesigning Discharge\" and extend the specialized unit service to all patients at risk of readmission. The challenge we face, however, is that we cannot predict in advance which patients are at risk of readmission. As such, we are currently unable to identify the specific patients we should be targeting"
      ],
      "metadata": {
        "id": "M1cJxrpO9sAH"
      }
    },
    {
      "cell_type": "markdown",
      "source": [
        "Our research aims to address the following questions:\n",
        "\n",
        "1. Can we develop a machine learning algorithm that can predict the probability of a patient's readmission within 30 days before their discharge?\n",
        "\n",
        "2. How can we effectively communicate the performance and benefits of this algorithm to the hospital managers, enabling them to make an informed decision about its implementation?\n",
        "\n",
        "The main challenge we face is not only the development of an effective predictive algorithm, but also explaining its complexities in a clear, digestible manner for non-technical decision-makers."
      ],
      "metadata": {
        "id": "PlVCjmaWCpzF"
      }
    },
    {
      "cell_type": "markdown",
      "source": [
        "\n",
        "\n",
        "---\n",
        "\n"
      ],
      "metadata": {
        "id": "k_dDoHDsl9X2"
      }
    },
    {
      "cell_type": "markdown",
      "source": [
        "## 1.2. Instructions\n",
        "\n",
        "1.  We aim to develop a predictive model to forecast hospital readmissions within 30 days of discharge.\n",
        "\n",
        "> Consider the next points:\n",
        "\n",
        "> The predictive model will be run prior to discharge, and before a decision has been made regarding the need for the specialized unit or the place of discharge.\n",
        "\n",
        "> This forecast will primarly aid doctors and other clinicians in making a final decision about whether a patient will need the \"specialised unit\" or not.\n",
        "\n",
        "> In addition, as part of the new protocol, this forecast will also help decide whether the patient should return to their usual place of residence or be transferred to an intermediate facility. This new protocol is set to replace the previous one concerning where patients should be discharged.\n",
        "\n",
        "> We plan to use historical data from the hospital for this purpose. Unfortunately, the historical data with which we have been provided doesn't include any record of the pilot study that ran for a year, which could have assisted in training our model.\n",
        "\n",
        "\n",
        "2. Review the research questions and make the appropriate decisions for building this predictive model, in accordance with the research question text.\n",
        "\n",
        "\n",
        "3.   Thoroughly review and study the data provided. Please pay close attention to the data dictionary (PDF inside the data folder) and revisit the plots and graphs created during weeks 1, 2, and 3.\n",
        "\n",
        "4. Given that the hospital has already provided the data, we'll bypass the following steps in the health data science workflow (refer to the image below): Step 3 and substeps 3a,3b,3c,3d,3e: Data Gathering.\n",
        "\n",
        "5. In Step 4, substep 4a (Data visualization), visualize the data in your drafts, but do not include the graphs in your final submission.\n",
        "\n",
        "6. The hospital aims to capture as many \"readmissions\" as possible (true positives), even if this moderately increases the number of false positives within reason (i.e., patients not at risk of readmission classified as such). However, be mindful that the hospital does not have unlimited resources. An excessive number of patients identified as at-risk could inflate the operational costs of the \"specialised unit\" beyond sustainable levels.\n",
        "\n",
        "7. The data scientists at the hospital have asked that you only consider the Logistic Regression and Random Forest machine learning techniques.\n",
        "\n",
        "8. Design various machine learning algorithms with different hyperparameters. Select one and provide a rationale for your choice.\n",
        "\n",
        "9. Use the classification_report and confusion matrix metrics for model evaluation. If you use other metrics such as the ROC curve, do not include them in your final submission.\n",
        "\n",
        "10. Justification for your decisions is crucial. Provide a one or two sentence explanation for each section preceding the relevant Python code block. You are encouraged to use \"Sanity Checks\" during the construction of the algorithms. Please do not include them in your final submission.\n",
        "\n",
        "11. Ensure clear labels for printed results and briefly detail the steps followed.\n",
        "\n",
        "12. Remember to comment and document your code thoroughly, as this will likely serve as a foundation for team-based algorithm development in the future.\n",
        "\n",
        "13. Format: Jupyter Notebook.\n",
        "\n",
        "14. Programming Language: Python.\n",
        "\n",
        "15. Submission: Upload the Jupyter Notebook to the designated section in OpenLearning and on your GitHub space. Submissions will close precisely at the deadline.\n",
        "\n",
        "16. Only submit the final version of your document.\n",
        "\n",
        "17. Include your first and last names in the document's title. For example: Final-Assignment-AnnXu-MichaelRoss.ipynb\n",
        "\n",
        "18. Each question is worth 1 mark, except question 8, which is worth 2 marks.\n",
        "\n",
        "19. Marks will be deducted for failure to follow the previous instructions.\n",
        "\n",
        "20. Refer to the provided [rubric](https://unsw-my.sharepoint.com/:w:/g/personal/z3368601_ad_unsw_edu_au/EYaMoVWZ20hFoj9R8hL2PIIB4-ACN6c4bf4uCI66gzpEqA?e=tUJZiB).\n",
        "\n"
      ],
      "metadata": {
        "id": "CI9JCYKb-6tz"
      }
    },
    {
      "cell_type": "markdown",
      "source": [
        "![alt text](https://drive.google.com/uc?export=view&id=105SGqeyo8RgLhSO8mN7ZE5OsG0YiLPKt)"
      ],
      "metadata": {
        "id": "9wK1oQbhq5hX"
      }
    },
    {
      "cell_type": "markdown",
      "source": [
        "## 1.3. Late Submission Penalty\n",
        "\n",
        "UNSW has a [standard](https://www.unsw.edu.au/arts-design-architecture/student-life/resources-support/protocols-guidelines)  late submission penalty of:\n",
        "\n",
        "\n",
        "*   5% per day,\n",
        "*   for all assessments where a penalty applies,\n",
        "*   capped at five days (120 hours) from the assessment deadline, after which a student cannot submit an assessment,\n",
        "*   and no permitted variation.\n",
        "\n",
        "Students are expected to manage their time to meet deadlines and to request extensions as early as possible before the deadline."
      ],
      "metadata": {
        "id": "Z9Yo-Q0QKhSW"
      }
    },
    {
      "cell_type": "markdown",
      "source": [
        "## 1.4. Marks and Feedback\n",
        "\n",
        "Per UNSW's policy, the marks and feedback of this assignment will be released after UNSW releases the final marks."
      ],
      "metadata": {
        "id": "a_aTlwYkKynH"
      }
    },
    {
      "cell_type": "markdown",
      "source": [
        "\n",
        "\n",
        "---\n",
        "\n"
      ],
      "metadata": {
        "id": "3eE8VXdpl_I2"
      }
    },
    {
      "cell_type": "markdown",
      "source": [
        "## 1.5. Provided Python Code"
      ],
      "metadata": {
        "id": "2n7dR4_xLlk-"
      }
    },
    {
      "cell_type": "code",
      "execution_count": 2,
      "metadata": {
        "id": "skbhUSeQiKQa",
        "colab": {
          "base_uri": "https://localhost:8080/"
        },
        "outputId": "42f71ca6-fb27-4d5b-ebcd-fe6dc667f3a5"
      },
      "outputs": [
        {
          "output_type": "stream",
          "name": "stdout",
          "text": [
            "Installing:  {'shap', 'grid'}\n"
          ]
        }
      ],
      "source": [
        "# check required libraries are installed if not calling system to install\n",
        "import sys\n",
        "import subprocess\n",
        "import pkg_resources\n",
        "\n",
        "required = {'numpy', 'pandas', 'plotnine', 'matplotlib', 'seaborn',\n",
        "            'grid', 'shap', 'scikit-learn'}\n",
        "installed = {pkg.key for pkg in pkg_resources.working_set}\n",
        "missing = required - installed\n",
        "\n",
        "if missing:\n",
        "    print('Installing: ', missing)\n",
        "    python = sys.executable\n",
        "    subprocess.check_call([python, '-m', 'pip', 'install', *missing], stdout=subprocess.DEVNULL)\n",
        "# delete unwanted variables\n",
        "del required\n",
        "del installed\n",
        "del missing"
      ]
    },
    {
      "cell_type": "code",
      "execution_count": 3,
      "metadata": {
        "id": "Y8p62DC4iKQb",
        "colab": {
          "base_uri": "https://localhost:8080/"
        },
        "outputId": "9806326a-a4ce-465f-eee4-d9bcddb6e1fa"
      },
      "outputs": [
        {
          "output_type": "stream",
          "name": "stdout",
          "text": [
            "Mounted at /content/drive\n"
          ]
        }
      ],
      "source": [
        "# Mount Google Drive\n",
        "# We do not need to run this cell if you are not running this notebook in Google Colab\n",
        "\n",
        "if 'google.colab' in str(get_ipython()):\n",
        "    from google.colab import drive # import drive from Gogle colab\n",
        "    root = '/content/drive'     # default location for the drive\n",
        "    # print(root)                 # print content of ROOT (Optional)\n",
        "    drive.mount(root)\n",
        "else:\n",
        "    print('Not running on CoLab')"
      ]
    },
    {
      "cell_type": "markdown",
      "source": [
        "Change the project paths and the paths according to where you have placed your files:"
      ],
      "metadata": {
        "id": "T70EJU8pAzeY"
      }
    },
    {
      "cell_type": "code",
      "execution_count": 4,
      "metadata": {
        "id": "kRNGzaEjiKQc"
      },
      "outputs": [],
      "source": [
        "from pathlib import Path\n",
        "\n",
        "if 'google.colab' in str(get_ipython()):\n",
        "    # EDIT THE PROJECT PATH IF DIFFERENT WITH YOUR ONE\n",
        "    project_path = Path(root) / 'MyDrive' / 'HDAT9500' / 'final-assignment'\n",
        "\n",
        "    # OPTIONAL - set working directory according to your google drive project path\n",
        "    # import os\n",
        "    # Change directory to the location defined in project_path\n",
        "    # os.chdir(project_path)\n",
        "else:\n",
        "    project_path = Path()"
      ]
    },
    {
      "cell_type": "markdown",
      "source": [
        "\n",
        "\n",
        "---\n",
        "Function to plot the confusion matrix:\n"
      ],
      "metadata": {
        "id": "58McxBL6Angl"
      }
    },
    {
      "cell_type": "code",
      "source": [
        "def plot_confusion_matrix(confusion_matrix):\n",
        "  # visualise the confusion matrix\n",
        "  labels = ['No', 'Yes']\n",
        "  ax = plt.subplot()\n",
        "  sns.heatmap(confusion_matrix, annot = True, fmt = '.0f', ax = ax, cmap = 'viridis')\n",
        "\n",
        "  # labels, titles and ticks\n",
        "  ax.set_xlabel('Predicted labels')\n",
        "  ax.set_ylabel('True labels')\n",
        "  ax.set_title('Confusion Matrix')\n",
        "  ax.xaxis.set_ticklabels(labels)\n",
        "  ax.yaxis.set_ticklabels(labels)"
      ],
      "metadata": {
        "id": "ptWoRBD1os1T"
      },
      "execution_count": 5,
      "outputs": []
    },
    {
      "cell_type": "markdown",
      "source": [
        "\n",
        "\n",
        "---\n",
        "\n"
      ],
      "metadata": {
        "id": "ANok5FMeLs8Y"
      }
    },
    {
      "cell_type": "markdown",
      "source": [
        "---\n",
        "# 2. Questions:"
      ],
      "metadata": {
        "id": "rixnC6G4Lvtu"
      }
    },
    {
      "cell_type": "markdown",
      "metadata": {
        "id": "IbpJocChpcTR"
      },
      "source": [
        "## Question 1: Docstring\n",
        "\n",
        "Create a docstring that includes the following:\n",
        "\n",
        "1. Purpose: The top-level aim of our program. (Please limit this to 50 words).\n",
        "2. Author(s)\n",
        "3. Dates\n",
        "4. List of Variables, Constants, and Functions: Describe how each one is used in the program. Ensure that you choose informative variable names and thoroughly document your program (both through docstrings and comments). When required, units should accompany the variables. The list of variables must be written in different sections: General, Question 1, Question 2, ..., Question 9. For the list of variables within each section, list the variables, constants, and functions in alphabetical order.\n",
        "5. Method: The \"Method\" section in a docstring typically refers to the approach or algorithm used in the program or function. Here, you would describe the sequence of operations or steps your code follows to accomplish its goal.\n",
        "\n",
        "Structure your docstring into distinct sections, with one section per point listed above.\n",
        "\n",
        "\n"
      ]
    },
    {
      "cell_type": "markdown",
      "metadata": {
        "id": "q2zvhr_epcTS"
      },
      "source": [
        "<b> 1. Purpose: The aim of our program:</b>\n",
        "\n",
        "################################################################################\n",
        "\n",
        "(double-click here)\n",
        "\n",
        "\n",
        "################################################################################"
      ]
    },
    {
      "cell_type": "markdown",
      "source": [
        "[...]"
      ],
      "metadata": {
        "id": "YriqPVQpS3Bp"
      }
    },
    {
      "cell_type": "markdown",
      "metadata": {
        "id": "-3wGayW7marI"
      },
      "source": [
        "<b> 4. List of variables and constants in alphabetical order:</b>\n",
        "\n",
        "################################################################################\n",
        "\n",
        "(double-click here)\n",
        "For example:\n",
        "\n",
        "\n",
        "---\n",
        "\n",
        "<b> General: </b>\n",
        "\n",
        "---\n",
        "\n",
        "---\n",
        "<b> Question 1: </b>\n",
        "\n",
        "* `variable_1`: description\n",
        "* `CONSTANT`: description\n",
        "* ...\n",
        "\n",
        "---\n",
        "\n",
        "(...)\n",
        "\n",
        "---\n",
        "<b> Question 4: Training, and hyper-parameter tuning of the Logistic Regression model.</b>\n",
        "\n",
        "* `variable_10`: description\n",
        "* `CONSTANT`: description\n",
        "* ...\n",
        "\n",
        "---\n",
        "\n",
        "<b>Question 5: Evaluation of the Logistic Regression: </b>\n",
        "\n",
        "* `confusion_LR_test`: confusion matrix derived from `y_test` and `y_pred_LR_test` for the logistic regression model `grid_search_LR` evaluated on the test set.\n",
        "* `confusion_RF_test`: confusion matrix derived from `y_test` and `y_pred_RF_test` for the random forest model `grid_search_RF` evaluated on the test set.\n",
        "\n",
        "---\n",
        "\n",
        "<b>Question 6: ... </b>\n",
        "\n",
        "* `variable_200`: description\n",
        "* ...\n",
        "---\n",
        "\n",
        "################################################################################"
      ]
    },
    {
      "cell_type": "markdown",
      "source": [
        "\n",
        "\n",
        "---\n",
        "\n"
      ],
      "metadata": {
        "id": "ew1S59Vj1l2m"
      }
    },
    {
      "cell_type": "markdown",
      "source": [
        "---\n",
        "## Question 2: Read and check the pickle file provided. Prepare the data so it can be used by the algorithms that you are going to create.\n",
        "---"
      ],
      "metadata": {
        "id": "DmqPFyIbnJci"
      }
    },
    {
      "cell_type": "markdown",
      "source": [
        "<b> Rationale: What are you doing to solve this question? - 75 word count limit:</b>\n",
        "\n",
        "\n",
        "################################################################################\n",
        "\n",
        "After loading the pickle file, we noted all variables were integers, categorical variables with multiple classes had been one-hot encoded and some had already been grouped. We removed the ID columns as they are non-informative. We also removed the variables that contained discharge information as this would not be known at the time the model would be deployed. We separated the outcome column from the predictors and binarized for future use.\n",
        "\n",
        "\n",
        "################################################################################"
      ],
      "metadata": {
        "id": "1AogtSxHxEW5"
      }
    },
    {
      "cell_type": "code",
      "source": [
        "# Python code here (15 lines limit, 1 cell limit)\n",
        "# Import and read dataset\n",
        "import pickle\n",
        "pickle_path = Path(project_path) / 'data' / 'hospital_data_final_assignment.pickle'\n",
        "\n",
        "with open(pickle_path, 'rb') as data:\n",
        "  hospital = pickle.load(data)\n",
        "\n",
        "# Drop id and discharge_disposition columns\n",
        "hospital = hospital.drop(['admission_id', 'patient_id'], axis = 1)\n",
        "hospital = hospital.drop(hospital.iloc[:, 49:57], axis = 1)\n",
        "\n",
        "# Divide dataset into X (predictors/features) and y (outcome)\n",
        "X = hospital.drop(columns = ['readmission'], axis = 1)\n",
        "y = hospital['readmission']\n",
        "\n",
        "# Binarise outcome\n",
        "y_binary = [0 if x == 'no' else 1 for x in y]"
      ],
      "metadata": {
        "id": "DJJoTVRw049e"
      },
      "execution_count": 6,
      "outputs": []
    },
    {
      "cell_type": "code",
      "source": [
        "# delete this cell. Just doing EDA and sanity checks\n",
        "#import pandas as pd\n",
        "#pd.set_option('display.max_columns', 100)\n",
        "#pd.set_option('display.max_rows', 100)\n",
        "#print(\"Number of rows and columns:\", hospital.shape) #original rows 72, after deletion = 61\n",
        "#hospital.head()\n",
        "#print(hospital.columns)\n",
        "#hospital['readmission'].dtypes #everything is an integer except readmission = object\n",
        "#hospital.columns[49:57]\n",
        "#hospital.describe(include = 'all')\n",
        "#hospital.value_counts(hospital['readmission']) #57348 not readmitted and 11919 readmitted - imbalanced dataset\n",
        "#pd.DataFrame((hospital['readmission'].value_counts(normalize=True)*100)) #82.8% no, 17.2% yes\n",
        "#print(hospital.isnull().sum()) #no null records\n",
        "#del hospital\n",
        "#X.head()\n",
        "#y.head()\n",
        "#sum(i == 'yes' for i in y) == sum(i == 1 for i in y_binary)"
      ],
      "metadata": {
        "id": "6kA0Yy28osNy"
      },
      "execution_count": null,
      "outputs": []
    },
    {
      "cell_type": "markdown",
      "source": [
        "---"
      ],
      "metadata": {
        "id": "1gsmCMIJ9oQ5"
      }
    },
    {
      "cell_type": "markdown",
      "source": [
        "---\n",
        "## Question 3: Divide the data into 80% for training and 20% for testing, using a random seed of 30. Set the other hyperparameters as you deem appropriate.\n",
        "---\n"
      ],
      "metadata": {
        "id": "PRlUipB2-nMX"
      }
    },
    {
      "cell_type": "markdown",
      "source": [
        "<b> Rationale: What are you doing to solve this question?- 75 word count limit:</b>\n",
        "\n",
        "\n",
        "################################################################################\n",
        "\n",
        "We are splitting the dataset to train the model on 80% of the data and setting aside the remaining 20% to test the performance of the final model. We will stratify the split to ensure the proportion of outcome classes are consistent between training and test sets. We’ve also set the random state to allow for reproducibility.\n",
        "\n",
        "\n",
        "################################################################################"
      ],
      "metadata": {
        "id": "7HjTXSR6-4cR"
      }
    },
    {
      "cell_type": "code",
      "source": [
        "# Python code here (2 lines limit, and 1 cell limit)\n",
        "\n",
        "# Split into train and test sets with stratification\n",
        "from sklearn.model_selection import train_test_split\n",
        "X_train, X_test, y_train, y_test = train_test_split(X, y_binary, test_size = 0.2, random_state = 30, stratify = y)"
      ],
      "metadata": {
        "id": "5LeXrTXc-4cR"
      },
      "execution_count": 7,
      "outputs": []
    },
    {
      "cell_type": "markdown",
      "source": [
        "\n",
        "\n",
        "---\n",
        "\n"
      ],
      "metadata": {
        "id": "ZcRSCX5s1kPR"
      }
    },
    {
      "cell_type": "markdown",
      "source": [
        "---\n",
        "## Question 4: Train and tune the hyperparameters of the Logistic Regression model.\n",
        "\n",
        "Hyper-parameters:\n",
        "\n",
        "- `C` values: 10, 100.\n",
        "- `class_weight`: only two pairs. Choose one of these two combinations and explain why.\n",
        "\n",
        "    * A weight of (80% for class 1, 20% for class 0) and (70% for class 1, 30% for class 0)\n",
        "    * A weight of (80% for class 0, 20% for class 1) and (70% for class 0, 30% for class 1).\n",
        "\n",
        "- `penalty` values: elasticnet, None\n",
        "- 3-fold cross-validation for the grid search.\n",
        "- `f1` as the score to choose the best model in the grid search.\n",
        "- `n_jobs`=-1.\n",
        "- do not include the heatmaps in the final submission.\n",
        "- do not change these hyper-parameters.\n",
        "- keep the remaining set of hyper-parameters in the default state.\n",
        "---\n"
      ],
      "metadata": {
        "id": "b3v2JXmp1o5W"
      }
    },
    {
      "cell_type": "markdown",
      "source": [
        "<b> Rationale: What are you doing to solve this question?-100 word count limit:</b>\n",
        "\n",
        "\n",
        "################################################################################\n",
        "\n",
        "We are using `GridSearchCV` and cross validation to tune our hyperparamaters. A pipeline is used to scale the training data before fitting the logistic regression model to it, ensuring each feature contributes equally to the model. We have specified the `‘saga’` solver as it is the only one that supports Elastic-Net regularisation which is one of the hyperparameters we would like to tune. The parameter grid contains the remaining hyperparameters to tune. We have weighted the rarer outcome (readmission) with a higher class weight to enable the model to pay more attention to these instances.    \n",
        "\n",
        "\n",
        "################################################################################"
      ],
      "metadata": {
        "id": "p845NQAlAY-U"
      }
    },
    {
      "cell_type": "code",
      "source": [
        "# Python code here (15 lines limit, and 2 cells limit)\n",
        "# NOTE TO SELF: if not converging could change C and make the learning rate faster\n",
        "# QUESTION: should we use standard scaler or something else?\n",
        "# Import required libraries\n",
        "from sklearn.linear_model import LogisticRegression\n",
        "from sklearn.pipeline import Pipeline\n",
        "from sklearn.preprocessing import StandardScaler\n",
        "\n",
        "# Nominate standardisation function\n",
        "Scaler = StandardScaler()\n",
        "\n",
        "# Nominate classification model\n",
        "lr = LogisticRegression(solver = 'saga', n_jobs = -1)\n",
        "\n",
        "# Create pipeline\n",
        "pipe = Pipeline([('Transform', Scaler), ('Estimator', lr)])\n",
        "\n",
        "# Define hyper-parameter grid:\n",
        "param_grid_lr = {'Estimator__C': [10, 100],\n",
        "              'Estimator__class_weight': [{0:0.2, 1:0.8},{0:0.3, 1:0.7}],\n",
        "              'Estimator__penalty': ['elasticnet', None]}\n",
        "\n",
        "# Initialise GridSearchCV classification\n",
        "from sklearn.model_selection import GridSearchCV\n",
        "grid_search_lr = GridSearchCV(pipe, param_grid_lr, cv = 3, scoring = 'f1')"
      ],
      "metadata": {
        "id": "-ixDi9nvAY-d"
      },
      "execution_count": 8,
      "outputs": []
    },
    {
      "cell_type": "code",
      "source": [
        "# Use cross validation to tune hyperparameters on training set\n",
        "grid_search_lr.fit(X_train, y_train)\n",
        "\n",
        "# Show results\n",
        "print(\"Best hyper-parameters: {}\".format(grid_search_lr.best_params_))\n",
        "print(\"Best cross-validation score: {:.4f}\".format(grid_search_lr.best_score_))"
      ],
      "metadata": {
        "id": "YMFLt30lM9jU"
      },
      "execution_count": null,
      "outputs": []
    },
    {
      "cell_type": "markdown",
      "source": [
        "\n",
        "\n",
        "---\n",
        "\n"
      ],
      "metadata": {
        "id": "98-HHV0DNkkC"
      }
    },
    {
      "cell_type": "markdown",
      "source": [
        "---\n",
        "## Question 5: Evaluate the Logistic Regression model on both the training and test sets. Use the `plot_confusion_matrix(confusion_matrix)` function provided above to display the results.\n",
        "---"
      ],
      "metadata": {
        "id": "y2BLfWf9NmWf"
      }
    },
    {
      "cell_type": "markdown",
      "source": [
        "<b> Rationale: Why are we evaluating the model in the training set? Why are we evaluating the model in the test set? What are you doing to solve this question?- 120 word count limit:</b>\n",
        "\n",
        "\n",
        "################################################################################\n",
        "\n",
        "The `grid_search.predict()` function uses the pipeline to ensure features in the test data are scaled by the same factors as used on the training set prior to predicting the outcome. Evaluating the model on the test set gives us a sense of its bias and variance. Ideally, you want the model to fit the test data well but not be too specialised that it can’t generalise to new data. We have chosen the F1-score due to the imbalanced nature of the outcome. Using the `dict_output = True` and the `pandas.Dataframe` function to return the classification report as a dataframe allows us to easily call each performance metric. The confusion matrix shows model performance on the test data.  \n",
        "\n",
        "\n",
        "################################################################################"
      ],
      "metadata": {
        "id": "T0ZoopThNyaW"
      }
    },
    {
      "cell_type": "code",
      "source": [
        "# Python code here (10 lines limit, and 2 cells limit)\n",
        "from sklearn.metrics import confusion_matrix\n",
        "from sklearn.metrics import classification_report\n",
        "import pandas as pd\n",
        "import matplotlib.pyplot as plt\n",
        "import seaborn as sns\n",
        "\n",
        "# Evaluating model on training set:\n",
        "print('Results of applying model to training data:\\n')\n",
        "print(\"F1-Score: \\t{:.3f}\".format(grid_search_lr.score(X_train, y_train)))\n"
      ],
      "metadata": {
        "id": "L1GEJ8kGNyaW",
        "colab": {
          "base_uri": "https://localhost:8080/"
        },
        "outputId": "f0448716-0020-4fb8-8990-274c7f6ad2ee"
      },
      "execution_count": 10,
      "outputs": [
        {
          "output_type": "stream",
          "name": "stdout",
          "text": [
            "Results of applying model to training data:\n",
            "\n",
            "F1-Score: \t0.925\n"
          ]
        }
      ]
    },
    {
      "cell_type": "code",
      "source": [
        "# Run best model on test set:\n",
        "pred_lr = grid_search_lr.predict(X_test)\n",
        "\n",
        "# Classification report\n",
        "classrep_lr = pd.DataFrame(classification_report(y_test, pred_lr, output_dict = True))\n",
        "\n",
        "print('Results of applying model to test data:\\n')\n",
        "print('Recall: \\t', round(classrep_lr.iloc[1,1],3))\n",
        "print('Precision: \\t', round(classrep_lr.iloc[0,1],3))\n",
        "print('Accuracy: \\t', round(classrep_lr.iloc[0,2],3))\n",
        "print('F1-Score: \\t', round(classrep_lr.iloc[2, 1],3))\n",
        "#print('\\n')\n",
        "\n",
        "# Could also present like this\n",
        "print(classification_report(y_test, pred_lr))\n",
        "\n",
        "# Or like either of these\n",
        "print(classrep_lr)\n",
        "\n",
        "# Create and plot confusion matrix\n",
        "confusion_lr = confusion_matrix(y_test, pred_lr)\n",
        "plot_confusion_matrix(confusion_lr)\n",
        "\n",
        "#NOTE TO SELF: decide how to present these scores. class report or use dataframe\n",
        "#Do we do all the different scores on training data as well"
      ],
      "metadata": {
        "colab": {
          "base_uri": "https://localhost:8080/",
          "height": 829
        },
        "id": "0N-YTYq0X5z-",
        "outputId": "30dee55b-8ccb-4b55-ce44-43dee0b6c50c"
      },
      "execution_count": 11,
      "outputs": [
        {
          "output_type": "stream",
          "name": "stdout",
          "text": [
            "Results of applying model to test data:\n",
            "\n",
            "Recall: \t 0.957\n",
            "Precision: \t 0.888\n",
            "Accuracy: \t 0.972\n",
            "F1-Score: \t 0.921\n",
            "              precision    recall  f1-score   support\n",
            "\n",
            "           0       0.99      0.97      0.98     11470\n",
            "           1       0.89      0.96      0.92      2384\n",
            "\n",
            "    accuracy                           0.97     13854\n",
            "   macro avg       0.94      0.97      0.95     13854\n",
            "weighted avg       0.97      0.97      0.97     13854\n",
            "\n",
            "                      0            1  accuracy     macro avg  weighted avg\n",
            "precision      0.990961     0.888283  0.971921      0.939622      0.973293\n",
            "recall         0.974978     0.957215  0.971921      0.966096      0.971921\n",
            "f1-score       0.982905     0.921462  0.971921      0.952183      0.972332\n",
            "support    11470.000000  2384.000000  0.971921  13854.000000  13854.000000\n"
          ]
        },
        {
          "output_type": "display_data",
          "data": {
            "text/plain": [
              "<Figure size 640x480 with 2 Axes>"
            ],
            "image/png": "[encoded data removed]"
          },
          "metadata": {}
        }
      ]
    },
    {
      "cell_type": "markdown",
      "source": [
        "\n",
        "\n",
        "---\n",
        "\n"
      ],
      "metadata": {
        "id": "CTIi2cd1yugI"
      }
    },
    {
      "cell_type": "markdown",
      "source": [
        "---\n",
        "## Question 6: Train and tune the hyperparameters of the of the Random Forest model.  \n",
        "\n",
        "Fixed hyper-parameters (do not change the values of these hyper-parameters):\n",
        "\n",
        "- `n_estimators`: 125, 150\n",
        "- `class_weight`: Only two pairs. Choose one of these two combinations (either combination 1 or combination 2) and explain why.\n",
        "1. A weight of (80% for class 1, 20% for class 0) and (70% for class 1, 30% for class 0)\n",
        "2.  A weight of (80% for class 0, 20% for class 1) and (70% for class 0, 30% for class 1).\n",
        "- 3-fold cross-validation for the grid search.\n",
        "- Select the score to choose the best model in the grid search.\n",
        "- `n_jobs`=-1\n",
        "- do not include the heatmaps in the final submission\n",
        "\n",
        "Other hyper-parameters:\n",
        "\n",
        "- `max_features`: 20, 30\n",
        "- `min_samples_split`: 20, 25\n",
        "- you can change the previous hyper-parameters (`max_features` and `min_samples_split`) or add other hyper-parameters if you wish. An explanation must be given to why you made that decision.\n",
        "\n",
        "---\n"
      ],
      "metadata": {
        "id": "iTQtpo_8yvX3"
      }
    },
    {
      "cell_type": "markdown",
      "source": [
        "<b> Rationale: What are you doing to solve this question?-150 word count limit:</b>\n",
        "\n",
        "\n",
        "################################################################################\n",
        "\n",
        "We once again used `GridSearchCV` and cross validation to tune the hyperparameters of our random forest classification model. Decision trees do not require scaling of the data, so no pipeline was used. F1-score was once again chosen due to the imbalanced dataset. We tuned the hyperparameters using cross validation on the training dataset and returned the best set. Based on the findings, we updated the hyperparameter options for `max_features` and `min_samples_split` in the vicinity of the optimal values found and set the others to the best value found in the first cross validation. The second cross validated model returned the same max_features parameter and a lower `min_samples_split` whist increasing the F1-score only slightly. Given the minimal improvement and noting that smaller min_samples_split may decrease generalisability of the model we will continue with the first model.  \n",
        "\n",
        "\n",
        "################################################################################"
      ],
      "metadata": {
        "id": "fA5-7Qpe2SPC"
      }
    },
    {
      "cell_type": "code",
      "source": [
        "# Python code here (15 lines limit, and 2 cells limit)\n",
        "from sklearn.ensemble import RandomForestClassifier\n",
        "\n",
        "# Initialise model\n",
        "rf_classifier = RandomForestClassifier(random_state = 0, n_jobs = -1)\n",
        "\n",
        "# Create parameter grid\n",
        "param_grid_rf = {'n_estimators': [125, 150],\n",
        "              'class_weight': [{0:0.2, 1:0.8},{0:0.3, 1:0.7}],\n",
        "              'max_features': [20, 30],\n",
        "              'min_samples_split': [20, 25]}\n",
        "\n",
        "# Initialise GridSearchCV classifier\n",
        "grid_search_rf = GridSearchCV(rf_classifier, param_grid_rf, cv = 3, scoring = 'f1')\n",
        "\n",
        "# Tune hyperparameters\n",
        "grid_search_rf.fit(X_train, y_train)\n",
        "\n",
        "# Return best paramaters and score\n",
        "print(\"Best parameters: {}\".format(grid_search_rf.best_params_))\n",
        "print(\"Best cross-validation average f1 score: {:.4f}\".format(grid_search_rf.best_score_))"
      ],
      "metadata": {
        "id": "9CHL7UB52SPJ",
        "colab": {
          "base_uri": "https://localhost:8080/"
        },
        "outputId": "fd2b4b55-4f76-458b-b646-460217007fb3"
      },
      "execution_count": 12,
      "outputs": [
        {
          "output_type": "stream",
          "name": "stdout",
          "text": [
            "Best parameters: {'class_weight': {0: 0.3, 1: 0.7}, 'max_features': 30, 'min_samples_split': 20, 'n_estimators': 150}\n",
            "Best cross-validation average f1 score: 0.9387\n"
          ]
        }
      ]
    },
    {
      "cell_type": "code",
      "source": [
        "# Update parameter grid\n",
        "param_grid_rf_detail = {'n_estimators': [150],\n",
        "              'class_weight': [{0:0.3, 1:0.7}],\n",
        "              'max_features': [25, 30, 35],\n",
        "              'min_samples_split': [15, 20]}\n",
        "#note - I played around a lot with this and the combo of 30 max features with 10 min sample split gave best score on test set\n",
        "\n",
        "# Initialise GridSearchCV classifier\n",
        "grid_search_rf_detail = GridSearchCV(rf_classifier, param_grid_rf_detail, cv = 3, scoring = 'f1')\n",
        "\n",
        "# Tune detailed hyperparameters\n",
        "grid_search_rf_detail.fit(X_train, y_train)\n",
        "\n",
        "# Return best paramaters and score\n",
        "print(\"Best parameters: {}\".format(grid_search_rf_detail.best_params_))\n",
        "print(\"Best cross-validation average f1 score: {:.4f}\".format(grid_search_rf_detail.best_score_))"
      ],
      "metadata": {
        "colab": {
          "base_uri": "https://localhost:8080/"
        },
        "id": "OX-scGUUKd_I",
        "outputId": "98eb6a79-df8f-4040-97f5-a6e80d727f4c"
      },
      "execution_count": 13,
      "outputs": [
        {
          "output_type": "stream",
          "name": "stdout",
          "text": [
            "Best parameters: {'class_weight': {0: 0.3, 1: 0.7}, 'max_features': 30, 'min_samples_split': 15, 'n_estimators': 150}\n",
            "Best cross-validation average f1 score: 0.9400\n"
          ]
        }
      ]
    },
    {
      "cell_type": "markdown",
      "source": [
        "---"
      ],
      "metadata": {
        "id": "_zu7iaT8AANM"
      }
    },
    {
      "cell_type": "markdown",
      "source": [
        "---\n",
        "## Question 7: Evaluate the Random Forest model on both the training and test sets. Use the `plot_confusion_matrix(confusion_matrix)` function provided above to display the results.\n",
        "---"
      ],
      "metadata": {
        "id": "xwh91teY3VgL"
      }
    },
    {
      "cell_type": "markdown",
      "source": [
        "<b> Rationale: Why are we evaluating the model in the training set? Why are we evaluating the model in the test set? What are you doing to solve this question?- 120 word count limit:</b>\n",
        "\n",
        "################################################################################\n",
        "\n",
        "As discussed previously we evaluate the model in the test set to understand the bias and variance. Our model performs well in the test set with a F1-score of 96.7%. This high score may be an indication the model is overfit with the inability to generalise to new data. We test this assumption by using the model to predict outcomes based on the test data then determine the performance metrics of these predictions in comparison to the true labels. Whilst the F1-score drops slightly it remains relatively high at 94.2% suggesting the model does generalise well to new data. [We also determined the feature importance for this resulting model and length of stay was by far the most important feature in determining readmission. This was followed by number of diagnoses and number outpatient visits to the hospital in the year prior.] <- delete if not needed\n",
        "\n",
        "\n",
        "################################################################################"
      ],
      "metadata": {
        "id": "hiHbV8Sf3VgT"
      }
    },
    {
      "cell_type": "code",
      "source": [
        "# Python code here (10 lines limit, and 2 cells limit)\n",
        "from sklearn.metrics import confusion_matrix\n",
        "from sklearn.metrics import f1_score\n",
        "from sklearn.metrics import classification_report\n",
        "\n",
        "# Evaluating models on training set:\n",
        "print('Results of applying model to training data:\\n')\n",
        "print(\"F1-Score: \\t{:.3f}\".format(grid_search_rf.score(X_train, y_train)))"
      ],
      "metadata": {
        "id": "Yk4wPAlV3VgU",
        "colab": {
          "base_uri": "https://localhost:8080/"
        },
        "outputId": "6bcb3123-e12c-437a-cdb5-5a83e191db7b"
      },
      "execution_count": 14,
      "outputs": [
        {
          "output_type": "stream",
          "name": "stdout",
          "text": [
            "Results of applying model to training data:\n",
            "\n",
            "F1-Score: \t0.967\n"
          ]
        }
      ]
    },
    {
      "cell_type": "code",
      "source": [
        "# Evaluating first model on test set:\n",
        "pred_rf = grid_search_rf.predict(X_test)\n",
        "\n",
        "# Classification report\n",
        "classrep_rf = pd.DataFrame(classification_report(y_test, pred_rf, output_dict = True))\n",
        "#print(classrep_rf)\n",
        "\n",
        "print('Results of applying model to test data:\\n')\n",
        "print('Recall: \\t', round(classrep_rf.iloc[1,1],3))\n",
        "print('Precision: \\t', round(classrep_rf.iloc[0,1],3))\n",
        "print('Accuracy: \\t', round(classrep_rf.iloc[0,2],3))\n",
        "print('F1-Score: \\t', round(classrep_rf.iloc[2, 1],3))\n",
        "print('\\n')\n",
        "\n",
        "# Create and plot confusion matrix\n",
        "confusion_rf = confusion_matrix(y_test, pred_rf)\n",
        "plot_confusion_matrix(confusion_rf)"
      ],
      "metadata": {
        "colab": {
          "base_uri": "https://localhost:8080/",
          "height": 615
        },
        "id": "mzyJXIGp5UDu",
        "outputId": "2a4ce5b3-1010-4e62-cfe2-44bdb3403775"
      },
      "execution_count": 15,
      "outputs": [
        {
          "output_type": "stream",
          "name": "stdout",
          "text": [
            "Results of applying model to test data:\n",
            "\n",
            "Recall: \t 0.972\n",
            "Precision: \t 0.913\n",
            "Accuracy: \t 0.979\n",
            "F1-Score: \t 0.942\n",
            "\n",
            "\n"
          ]
        },
        {
          "output_type": "display_data",
          "data": {
            "text/plain": [
              "<Figure size 640x480 with 2 Axes>"
            ],
            "image/png": "[encoded data removed]"
          },
          "metadata": {}
        }
      ]
    },
    {
      "cell_type": "code",
      "source": [
        "# IN HERE FOR INTEREST: second model better f1 and precision but recall worse\n",
        "# Evaluating second model on test set:\n",
        "#pred_rf_detail = grid_search_rf_detail.predict(X_test)\n",
        "\n",
        "# Classification report\n",
        "#classrep_rf_detail = pd.DataFrame(classification_report(y_test, pred_rf_detail, output_dict = True))\n",
        "#print(classrep_rf_detail)\n",
        "\n",
        "#print('Results of applying model to test data:\\n')\n",
        "#print('Recall: \\t', round(classrep_rf_detail.iloc[1,1],3))\n",
        "#print('Precision: \\t', round(classrep_rf_detail.iloc[0,1],3))\n",
        "#print('Accuracy: \\t', round(classrep_rf_detail.iloc[0,2],3))\n",
        "#print('F1-Score: \\t', round(classrep_rf_detail.iloc[2, 1],3))\n",
        "#print('\\n')\n",
        "\n",
        "# Could also present like this\n",
        "#print(classification_report(y_test, pred_rf_detail))\n",
        "\n",
        "# Or like either of these\n",
        "#print(classrep_rf_detail)\n",
        "\n",
        "# Create and plot confusion matrix\n",
        "#confusion_rf_detail = confusion_matrix(y_test, pred_rf_detail)\n",
        "#plot_confusion_matrix(confusion_rf_detail)\n",
        "\n",
        "#NOTE TO SELF: decide how to present these scores. class report or use dataframe\n",
        "#Do we do all the different scores on training data as well"
      ],
      "metadata": {
        "id": "ZzQxC26uAUU_"
      },
      "execution_count": null,
      "outputs": []
    },
    {
      "cell_type": "code",
      "source": [
        "# Feature importance\n",
        "import numpy as np\n",
        "def plot_feature_importances(model):\n",
        "    plt.rcParams[\"figure.figsize\"] = (6,4)\n",
        "    #locate indices of the features with feature importance greater than 0.01. Sort descending\n",
        "    indices = np.argsort(model.best_estimator_.feature_importances_)\n",
        "    indices = indices[-17:]\n",
        "\n",
        "    # Rearrange feature names so they match the sorted feature importances\n",
        "    columns_name = [X.columns[i] for i in indices]\n",
        "\n",
        "    #extract the number of features that have non-zero feature importance\n",
        "    n_features = X.iloc[:,indices].shape[1]\n",
        "\n",
        "    # Create plot\n",
        "    plt.figure()\n",
        "    plt.title(\"Feature Importance\")\n",
        "    plt.xlabel(\"Feature\")\n",
        "    plt.ylabel(\"Feature Importance\")\n",
        "    plt.barh(range(n_features), model.best_estimator_.feature_importances_[indices])\n",
        "    plt.yticks(range(n_features), columns_name)\n",
        "    plt.show()"
      ],
      "metadata": {
        "id": "kyihnXGP6248"
      },
      "execution_count": 154,
      "outputs": []
    },
    {
      "cell_type": "code",
      "source": [
        "plot_feature_importances(grid_search_rf)"
      ],
      "metadata": {
        "id": "SLrNg4Lf7E95"
      },
      "execution_count": null,
      "outputs": []
    },
    {
      "cell_type": "markdown",
      "source": [
        "\n",
        "\n",
        "---\n",
        "\n"
      ],
      "metadata": {
        "id": "4CsbaxoQ3VgU"
      }
    },
    {
      "cell_type": "markdown",
      "source": [
        "---\n",
        "## Question 8: Based on the research questions and instructions, determine which model, if any, you would choose. Justify whether or not you would deploy this model.\n",
        "---"
      ],
      "metadata": {
        "id": "eMBZph5HA6AN"
      }
    },
    {
      "cell_type": "markdown",
      "source": [
        "<b> Rationale: 350 word count limit </b>\n",
        "\n",
        "################################################################################\n",
        "\n",
        "The code below shows the comparison between the logistic regression (LR) and random forest (RF) models. The RF model performs better in all metrics compared to the LR; of particular interest is the improved recall. Recall is an important metric in this case as the hospital is interested in ensuring as many patients that are at risk of readmission are identified, even if it means including some patients that are classified as readmissions but are not (false positives) – a model with a high recall will achieve this. This must be balanced with a reasonable precision to ensure the hospital is not spending resources on patients falsely categorised as readmissions. It can be seen from the confusion matrices that the RF model significantly decreases the number of false negatives (bottom left number) compared to the LR model which is why we see the increase in recall performance. For this reason, we chose the RF model over the LR model.\n",
        "\n",
        "Based on our test data, the RF model correctly identified 97.2% of patients that were going to be readmitted to hospital within 30 days of discharge. Without intervention, the estimated cost to treat those 2,384 readmitted patients would be in the order of 14.3 million dollars. To calculate the cost of running the program we determined intervention costs for all those classified as readmissions (true and false positives). We also calculated the readmission costs for the false negatives (those classified as non-readmissions but were readmitted). With a conservative assumption that the intervention prevents just 50% of those treated from being readmitted, the hospital would still save over 1.8 million dollars. If the performance of the intervention was higher at 80% the savings would increase to over 6 million dollars (based on a test data set of 13,854 patients and a 17.2% readmission rate). For context, Westmead Emergency Department has an annual throughput of approximately 80,000 patients, which shows the magnitude of cost savings and improvement in patient outcomes an intervention like this could potentially achieve. This is our justification to deploy the RF model.  \n",
        "\n",
        "\n",
        "################################################################################"
      ],
      "metadata": {
        "id": "AXP5G5nrA6AO"
      }
    },
    {
      "cell_type": "code",
      "source": [
        "# Python code here (10 lines limit, and 2 cells limit)\n",
        "# Compare performance of logistic regression and ramdom forest models\n",
        "data = {'Logistic Regresion': ([classrep_lr.iloc[1,1], classrep_lr.iloc[0,1], classrep_lr.iloc[2, 1],classrep_lr.iloc[0,2]]),\n",
        "        'Random Forest':[classrep_rf.iloc[1,1], classrep_rf.iloc[0,1], classrep_rf.iloc[2, 1],classrep_rf.iloc[0,2]]}\n",
        "\n",
        "comparison = pd.DataFrame(data, index = ['Recall', 'Precision', 'F1-Score', 'Accuracy'])\n",
        "print(comparison.round(3))\n",
        "\n",
        "# Compare the two confusion matrices\n",
        "print('\\nConfusion matrix for Logistic Regression Model:')\n",
        "print(confusion_lr)\n",
        "\n",
        "print('\\nConfusion matrix for Random Forest Model:')\n",
        "print(confusion_rf)"
      ],
      "metadata": {
        "colab": {
          "base_uri": "https://localhost:8080/"
        },
        "id": "ZM2WJ4HvmWhD",
        "outputId": "5421255a-9f57-4a3f-9117-4a3e768c2040"
      },
      "execution_count": 16,
      "outputs": [
        {
          "output_type": "stream",
          "name": "stdout",
          "text": [
            "           Logistic Regresion  Random Forest\n",
            "Recall                  0.957          0.972\n",
            "Precision               0.888          0.913\n",
            "F1-Score                0.921          0.942\n",
            "Accuracy                0.972          0.979\n",
            "\n",
            "Confusion matrix for Logistic Regression Model:\n",
            "[[11183   287]\n",
            " [  102  2282]]\n",
            "\n",
            "Confusion matrix for Random Forest Model:\n",
            "[[11248   222]\n",
            " [   66  2318]]\n"
          ]
        }
      ]
    },
    {
      "cell_type": "code",
      "source": [
        "# Would we deploy the RF model\n",
        "readmission_cost = 6000\n",
        "intervention_cost = 2000\n",
        "\n",
        "# Number of readmitted patients in test set\n",
        "sum(y_test)\n",
        "\n",
        "# Cost of the readmissions without program\n",
        "cost_read_noint = sum(y_test)*readmission_cost\n",
        "print('Cost of readmissions based on test data')\n",
        "print('${:,}'.format(cost_read_noint))\n",
        "\n",
        "# Cost of intervention\n",
        "false_pos = confusion_rf[0,1]*intervention_cost\n",
        "true_pos = confusion_rf[1,1]*intervention_cost\n",
        "cost_int = false_pos + true_pos\n",
        "print('\\nCost of intervention')\n",
        "print('${:,}'.format(cost_int))\n",
        "\n",
        "# Cost of readmissions with intervention\n",
        "false_neg = confusion_rf[1,0]*readmission_cost\n",
        "# Assume 20% of patients with intervention still need readmission\n",
        "readmit_despite_int = (0.2*confusion_rf[1,1])*readmission_cost\n",
        "cost_readmit_with_int = false_neg + readmit_despite_int\n",
        "print('\\nCost of readmissions with intervention')\n",
        "print('${:,}'.format(cost_readmit_with_int))\n",
        "\n",
        "# Different between program and no program\n",
        "print('\\nSavings if program deployed')\n",
        "print('${:,}'.format(cost_read_noint - (cost_readmit_with_int + cost_int)))"
      ],
      "metadata": {
        "colab": {
          "base_uri": "https://localhost:8080/"
        },
        "id": "wjiVsKSZuZWp",
        "outputId": "9124b934-d4ca-4528-a0fd-4da12ec67350"
      },
      "execution_count": 17,
      "outputs": [
        {
          "output_type": "stream",
          "name": "stdout",
          "text": [
            "Cost of readmissions based on test data\n",
            "$14,304,000\n",
            "\n",
            "Cost of intervention\n",
            "$5,080,000\n",
            "\n",
            "Cost of readmissions with intervention\n",
            "$3,177,600.0\n",
            "\n",
            "Savings if program deployed\n",
            "$6,046,400.0\n"
          ]
        }
      ]
    },
    {
      "cell_type": "markdown",
      "source": [],
      "metadata": {
        "id": "4rbDLJkiuZJh"
      }
    },
    {
      "cell_type": "code",
      "source": [
        "sum(y_test)"
      ],
      "metadata": {
        "colab": {
          "base_uri": "https://localhost:8080/"
        },
        "id": "qdzClTE43TAj",
        "outputId": "48c7a6fc-6ebb-4cbe-b631-10ea94bb1b90"
      },
      "execution_count": 164,
      "outputs": [
        {
          "output_type": "execute_result",
          "data": {
            "text/plain": [
              "2384"
            ]
          },
          "metadata": {},
          "execution_count": 164
        }
      ]
    },
    {
      "cell_type": "markdown",
      "source": [
        "\n",
        "\n",
        "---\n",
        "\n"
      ],
      "metadata": {
        "id": "l63_Jk0mA6AP"
      }
    },
    {
      "cell_type": "markdown",
      "source": [
        "---\n",
        "## Question 9:  Implement SHAP for the final model and describe your observations. If no model was selected in question 8, provide a justification and choose one model specifically for this SHAP analysis. Conclude by commenting on the results.\n",
        "---"
      ],
      "metadata": {
        "id": "u0Wb9iHWASdT"
      }
    },
    {
      "cell_type": "markdown",
      "source": [
        "<b> Explanation of what you observe - 250 word count limit:</b>\n",
        "\n",
        "################################################################################\n",
        "\n",
        "Length of stay has most influence. Followed by whether the patient was admitted through emergency, the number of previous outpatient visits they had to the hospital in the past 12mo and the number of medications they received during the stay. Many of these variables speak to the complexity of the condition the patient presented and/or was treated for. It is fair to assume more complex cases would be at higher risk of readmission. If the hospital were looking for other strategies, over and above this intervention project, to decrease readmission rates, ensuring patient stays are not any more protracted than they need to be could be a focus area. Another novel approach may be to look deeper into the number of outpatient visit metric more deeply and identify whether flagging a patient after a certain number of outpatient visits for proactive intervention could also lead to decreased readmission rates. Finally, the role that elective admissions play readmission should probably be explored further. Unless these readmissions are planned, readmission after an elective procedure is unexected and arguably should be avoidable.     \n",
        "\n",
        "\n",
        "################################################################################"
      ],
      "metadata": {
        "id": "1IlYvZ83ASda"
      }
    },
    {
      "cell_type": "code",
      "source": [
        "# Python code here (10 lines limit, and 2 cells limit)\n",
        "# Create model using hyperparamaters tuned during cross validation\n",
        "print(grid_search_rf.best_params_)\n",
        "\n",
        "final_model = RandomForestClassifier(random_state = 0, n_jobs = -1, n_estimators = 150,\n",
        "                                     min_samples_split = 20, max_features = 30,\n",
        "                                     class_weight = {0:0.3, 1:0.7})\n",
        "\n",
        "final_model.fit(X_train, y_train)"
      ],
      "metadata": {
        "id": "wh2VJms9ASda",
        "colab": {
          "base_uri": "https://localhost:8080/",
          "height": 127
        },
        "outputId": "707eef31-21ac-489a-e6e6-62ec083d3a33"
      },
      "execution_count": 23,
      "outputs": [
        {
          "output_type": "stream",
          "name": "stdout",
          "text": [
            "{'class_weight': {0: 0.3, 1: 0.7}, 'max_features': 30, 'min_samples_split': 20, 'n_estimators': 150}\n"
          ]
        },
        {
          "output_type": "execute_result",
          "data": {
            "text/plain": [
              "RandomForestClassifier(class_weight={0: 0.3, 1: 0.7}, max_features=30,\n",
              "                       min_samples_split=20, n_estimators=150, n_jobs=-1,\n",
              "                       random_state=0)"
            ],
            "text/html": [
              "<style>#sk-container-id-1 {color: black;background-color: white;}#sk-container-id-1 pre{padding: 0;}#sk-container-id-1 div.sk-toggleable {background-color: white;}#sk-container-id-1 label.sk-toggleable__label {cursor: pointer;display: block;width: 100%;margin-bottom: 0;padding: 0.3em;box-sizing: border-box;text-align: center;}#sk-container-id-1 label.sk-toggleable__label-arrow:before {content: \"▸\";float: left;margin-right: 0.25em;color: #696969;}#sk-container-id-1 label.sk-toggleable__label-arrow:hover:before {color: black;}#sk-container-id-1 div.sk-estimator:hover label.sk-toggleable__label-arrow:before {color: black;}#sk-container-id-1 div.sk-toggleable__content {max-height: 0;max-width: 0;overflow: hidden;text-align: left;background-color: #f0f8ff;}#sk-container-id-1 div.sk-toggleable__content pre {margin: 0.2em;color: black;border-radius: 0.25em;background-color: #f0f8ff;}#sk-container-id-1 input.sk-toggleable__control:checked~div.sk-toggleable__content {max-height: 200px;max-width: 100%;overflow: auto;}#sk-container-id-1 input.sk-toggleable__control:checked~label.sk-toggleable__label-arrow:before {content: \"▾\";}#sk-container-id-1 div.sk-estimator input.sk-toggleable__control:checked~label.sk-toggleable__label {background-color: #d4ebff;}#sk-container-id-1 div.sk-label input.sk-toggleable__control:checked~label.sk-toggleable__label {background-color: #d4ebff;}#sk-container-id-1 input.sk-hidden--visually {border: 0;clip: rect(1px 1px 1px 1px);clip: rect(1px, 1px, 1px, 1px);height: 1px;margin: -1px;overflow: hidden;padding: 0;position: absolute;width: 1px;}#sk-container-id-1 div.sk-estimator {font-family: monospace;background-color: #f0f8ff;border: 1px dotted black;border-radius: 0.25em;box-sizing: border-box;margin-bottom: 0.5em;}#sk-container-id-1 div.sk-estimator:hover {background-color: #d4ebff;}#sk-container-id-1 div.sk-parallel-item::after {content: \"\";width: 100%;border-bottom: 1px solid gray;flex-grow: 1;}#sk-container-id-1 div.sk-label:hover label.sk-toggleable__label {background-color: #d4ebff;}#sk-container-id-1 div.sk-serial::before {content: \"\";position: absolute;border-left: 1px solid gray;box-sizing: border-box;top: 0;bottom: 0;left: 50%;z-index: 0;}#sk-container-id-1 div.sk-serial {display: flex;flex-direction: column;align-items: center;background-color: white;padding-right: 0.2em;padding-left: 0.2em;position: relative;}#sk-container-id-1 div.sk-item {position: relative;z-index: 1;}#sk-container-id-1 div.sk-parallel {display: flex;align-items: stretch;justify-content: center;background-color: white;position: relative;}#sk-container-id-1 div.sk-item::before, #sk-container-id-1 div.sk-parallel-item::before {content: \"\";position: absolute;border-left: 1px solid gray;box-sizing: border-box;top: 0;bottom: 0;left: 50%;z-index: -1;}#sk-container-id-1 div.sk-parallel-item {display: flex;flex-direction: column;z-index: 1;position: relative;background-color: white;}#sk-container-id-1 div.sk-parallel-item:first-child::after {align-self: flex-end;width: 50%;}#sk-container-id-1 div.sk-parallel-item:last-child::after {align-self: flex-start;width: 50%;}#sk-container-id-1 div.sk-parallel-item:only-child::after {width: 0;}#sk-container-id-1 div.sk-dashed-wrapped {border: 1px dashed gray;margin: 0 0.4em 0.5em 0.4em;box-sizing: border-box;padding-bottom: 0.4em;background-color: white;}#sk-container-id-1 div.sk-label label {font-family: monospace;font-weight: bold;display: inline-block;line-height: 1.2em;}#sk-container-id-1 div.sk-label-container {text-align: center;}#sk-container-id-1 div.sk-container {/* jupyter's `normalize.less` sets `[hidden] { display: none; }` but bootstrap.min.css set `[hidden] { display: none !important; }` so we also need the `!important` here to be able to override the default hidden behavior on the sphinx rendered scikit-learn.org. See: https://github.com/scikit-learn/scikit-learn/issues/21755 */display: inline-block !important;position: relative;}#sk-container-id-1 div.sk-text-repr-fallback {display: none;}</style><div id=\"sk-container-id-1\" class=\"sk-top-container\"><div class=\"sk-text-repr-fallback\"><pre>RandomForestClassifier(class_weight={0: 0.3, 1: 0.7}, max_features=30,\n",
              "                       min_samples_split=20, n_estimators=150, n_jobs=-1,\n",
              "                       random_state=0)</pre><b>In a Jupyter environment, please rerun this cell to show the HTML representation or trust the notebook. <br />On GitHub, the HTML representation is unable to render, please try loading this page with nbviewer.org.</b></div><div class=\"sk-container\" hidden><div class=\"sk-item\"><div class=\"sk-estimator sk-toggleable\"><input class=\"sk-toggleable__control sk-hidden--visually\" id=\"sk-estimator-id-1\" type=\"checkbox\" checked><label for=\"sk-estimator-id-1\" class=\"sk-toggleable__label sk-toggleable__label-arrow\">RandomForestClassifier</label><div class=\"sk-toggleable__content\"><pre>RandomForestClassifier(class_weight={0: 0.3, 1: 0.7}, max_features=30,\n",
              "                       min_samples_split=20, n_estimators=150, n_jobs=-1,\n",
              "                       random_state=0)</pre></div></div></div></div></div>"
            ]
          },
          "metadata": {},
          "execution_count": 23
        }
      ]
    },
    {
      "cell_type": "code",
      "source": [
        "import shap\n",
        "explainer_rf = shap.TreeExplainer(final_model, X_train, feature_dependence = 'independent')\n",
        "shap_values_rf = explainer_rf.shap_values(X_train)\n"
      ],
      "metadata": {
        "id": "z9IlNBLdEjAA"
      },
      "execution_count": null,
      "outputs": []
    },
    {
      "cell_type": "code",
      "source": [
        "shap.summary_plot(shap_values_rf, X_train, feature_names = X_train.columns)"
      ],
      "metadata": {
        "id": "fyt_6mMFza47",
        "outputId": "fda77eff-1aa7-4e09-936d-7e5324d3e220",
        "colab": {
          "base_uri": "https://localhost:8080/",
          "height": 957
        }
      },
      "execution_count": 31,
      "outputs": [
        {
          "output_type": "display_data",
          "data": {
            "text/plain": [
              "<Figure size 800x950 with 1 Axes>"
            ],
            "image/png": "[encoded data removed]"
          },
          "metadata": {}
        }
      ]
    },
    {
      "cell_type": "code",
      "source": [
        "# testing the final model produces the same results as the gridsearch model\n",
        "final_model.fit(X_train, y_train)\n",
        "\n",
        "pred_final = final_model.predict(X_test)\n",
        "\n",
        "# Classification report\n",
        "classrep_final = pd.DataFrame(classification_report(y_test, pred_final, output_dict = True))\n",
        "classrep_final\n",
        "#explainer_rf = shap.TreeExplainer(grid_search_rf)"
      ],
      "metadata": {
        "id": "1n1TBlQOEa-p"
      },
      "execution_count": null,
      "outputs": []
    },
    {
      "cell_type": "markdown",
      "source": [
        "\n",
        "\n",
        "---\n",
        "\n"
      ],
      "metadata": {
        "id": "hrD9unXPAZQL"
      }
    },
    {
      "cell_type": "markdown",
      "metadata": {
        "id": "TYOVWp4ViKQq"
      },
      "source": [
        "© 2023 Copyright The University of New South Wales - CRICOS 00098G"
      ]
    }
  ],
  "metadata": {
    "colab": {
      "name": "Final-Assignment-Name-Surname.ipynb",
      "provenance": [],
      "collapsed_sections": [
        "IbpJocChpcTR",
        "PRlUipB2-nMX",
        "b3v2JXmp1o5W",
        "y2BLfWf9NmWf",
        "iTQtpo_8yvX3",
        "xwh91teY3VgL",
        "eMBZph5HA6AN",
        "u0Wb9iHWASdT"
      ],
      "include_colab_link": true
    },
    "interpreter": {
      "hash": "aee8b7b246df8f9039afb4144a1f6fd8d2ca17a180786b69acc140d282b71a49"
    },
    "kernelspec": {
      "display_name": "Python 3.7.4 64-bit",
      "language": "python",
      "name": "python3"
    },
    "language_info": {
      "codemirror_mode": {
        "name": "ipython",
        "version": 3
      },
      "file_extension": ".py",
      "mimetype": "text/x-python",
      "name": "python",
      "nbconvert_exporter": "python",
      "pygments_lexer": "ipython3",
      "version": "3.7.4"
    }
  },
  "nbformat": 4,
  "nbformat_minor": 0
}