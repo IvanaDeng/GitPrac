{
  "cells": [
    {
      "cell_type": "markdown",
      "metadata": {
        "id": "view-in-github",
        "colab_type": "text"
      },
      "source": [
        "<a href=\"https://colab.research.google.com/github/IvanaDeng/GitPrac/blob/main/FA_NamesSurnames.ipynb\" target=\"_parent\"><img src=\"https://colab.research.google.com/assets/colab-badge.svg\" alt=\"Open In Colab\"/></a>"
      ]
    },
    {
      "cell_type": "markdown",
      "metadata": {
        "id": "1GNrOr-WiKQW"
      },
      "source": [
        "![alt text](https://drive.google.com/uc?export=view&id=1DXUVHxd4t15mfuqMgMCLnsP4jWVI5EWz)\n",
        "\n",
        "---\n",
        "\n",
        "<br>\n",
        "© 2023 Copyright The University of New South Wales - CRICOS 00098G\n",
        "\n",
        "**Authors**: Oscar Perez-Concha.\n",
        "\n",
        "**Communications**: If you have any questions, please email Oscar at: o.perezconcha@unsw.edu.au"
      ]
    },
    {
      "cell_type": "markdown",
      "source": [
        "# Final Assignment (FA)"
      ],
      "metadata": {
        "id": "N6T0wwT_GozJ"
      }
    },
    {
      "cell_type": "markdown",
      "source": [
        "\n",
        "\n",
        "---\n",
        "\n"
      ],
      "metadata": {
        "id": "R1skKevpG0jB"
      }
    },
    {
      "cell_type": "markdown",
      "source": [],
      "metadata": {
        "id": "QmhnQ1KbGY0B"
      }
    },
    {
      "cell_type": "markdown",
      "metadata": {
        "id": "fN4p9w5eiKQY"
      },
      "source": [
        "#####################################################################################\n",
        "\n",
        "Double-click to write down your name and surname.\n",
        "\n",
        "**Name 1 and Surname 1:**\n",
        "\n",
        "**Honour Pledge** <p>\n",
        "    \n",
        "Declaration: <p>\n",
        "    \n",
        "    \n",
        "I declare that this assessment item is my own work, except where acknowledged, and has not been submitted for academic credit elsewhere or previously, or produced independently of this course (e.g. for a third party such as your place of employment) and acknowledge that the assessor of this item may, for the purpose of assessing this item:\n",
        "\n",
        "1. Reproduce this assessment item and provide a copy to another member of the University; and/or\n",
        "\n",
        "2. Communicate a copy of this assessment item to a plagiarism checking service (which may then retain a copy of the assessment item on its database for the purpose of future plagiarism checking).\n",
        "\n",
        "**By writing you name and surname above, you certify that you have read and agreed to the honour pledge.**\n",
        "\n",
        "#####################################################################################"
      ]
    },
    {
      "cell_type": "markdown",
      "source": [
        "#####################################################################################\n",
        "\n",
        "Double-click to write down your name and surname.\n",
        "\n",
        "**Name 2 and Surname 2:** Ivana Deng\n",
        "\n",
        "**Honour Pledge** <p>\n",
        "    \n",
        "    \n",
        "Declaration: <p>\n",
        "    \n",
        "    \n",
        "I declare that this assessment item is my own work, except where acknowledged, and has not been submitted for academic credit elsewhere or previously, or produced independently of this course (e.g. for a third party such as your place of employment) and acknowledge that the assessor of this item may, for the purpose of assessing this item:\n",
        "\n",
        "1. Reproduce this assessment item and provide a copy to another member of the University; and/or\n",
        "\n",
        "2. Communicate a copy of this assessment item to a plagiarism checking service (which may then retain a copy of the assessment item on its database for the purpose of future plagiarism checking).\n",
        "\n",
        "**By wrting you name and surname above, you certify that you have read and agreed to the honour pledge.**\n",
        "\n",
        "#####################################################################################"
      ],
      "metadata": {
        "id": "7EORMEMxuhJS"
      }
    },
    {
      "cell_type": "markdown",
      "source": [
        "---\n",
        "# 1.  Health Data Science Scenario\n",
        "\n",
        "## 1.1. Research Question\n",
        "\n",
        "Our hospital has been very proactive in analysing data from its Electronic Medical Records (EMR). Through this analysis, we've made some interesting discoveries.\n",
        "\n",
        "We identified that readmitted patients are not only those who were sicker during their first admission but also those with less support after discharge or those without medical follow-up post-discharge.\n",
        "Readmitted patients experienced high levels of emotional stress.\n",
        "Readmitted patients were at a significantly higher risk of acquiring new infections while in the hospital.\n",
        "Readmissions are highly costly. Patients who were readmitted for the reasons mentioned above tended to be sicker than during their first admission, and their length of stay was significantly longer than during their first admission."
      ],
      "metadata": {
        "id": "hvLpFjsB9PYz"
      }
    },
    {
      "cell_type": "markdown",
      "source": [
        "Our hospital has implemented a pilot program named \"Redesigning Discharge,\" which involves a \"specialised unit\" that coordinates patients' discharges. This pilot program has been running for a year.\n",
        "\n",
        "This \"specialised unit\" is composed of a team of doctors, nurses, physiotherapists, and occupational therapists.\n",
        "\n",
        "The program consists of two main innovations.\n",
        "\n",
        "1. In the first part of the program, the doctors conduct a new discharge assessment protocol using innovative evidence-based tools to help them decide whether patients are ready to return to their usual place of residence or if it would be more advisable to transfer them to an intermediate or short-term care facility. As such, this program is set to replace the previous protocol concerning where patients should be discharged.\n",
        "\n",
        "2. The second part of the program includes a group of nurses, physiotherapists, and occupational therapists who visit patients at home or in the intermediate facility after discharge. The frequency of these visits is determined by an assessment conducted prior to discharge, averaging about five visits per patient. Among other things, the team's tasks include ensuring proper wound healing, checking medication compliance, coordinating with a general practitioner or the medical team at the intermediate facility, and assessing the patient's ability to perform basic daily activities such as navigating their environment, using the toilet, and showering. Furthermore, the specialised unit maintains regular telephone contact with patients to check on their well-being. Patients are also encouraged to reach out to the unit if they need any assistance.\n",
        "\n",
        "This pilot program has been very successful and it has been welcomed by all the stakeholders. Among other things, the program has significantly reduced the number of hospital readmissions. Moreover, the operating costs for this specialised unit have proven to be considerably lower than the costs associated with readmissions"
      ],
      "metadata": {
        "id": "zXDNhvVF9gAL"
      }
    },
    {
      "cell_type": "markdown",
      "source": [
        "In terms of budget:\n",
        "\n",
        "1. The average cost of a day in the hospital is 6,000 dollars; readmitted patients tend to stay for an average of 4 days.\n",
        "\n",
        "2. An intervention by the specialised unit costs on average 2,000 dollars, which includes the cost of the average number of visits per patient, being 5 visits.\n",
        "\n",
        "3. The cost of an intermediate facility is not considered, as it's covered by Private Health Insurance or other Government Schemes. Additionally, our program is effectively 'donating' a team of medical professionals to these facilities. Therefore, we do not need to account for the cost of these intermediate facilities if a patient is discharged there.\n",
        "\n",
        "Our hospital is now prepared to implement \"Redesigning Discharge\" and extend the specialized unit service to all patients at risk of readmission. The challenge we face, however, is that we cannot predict in advance which patients are at risk of readmission. As such, we are currently unable to identify the specific patients we should be targeting"
      ],
      "metadata": {
        "id": "M1cJxrpO9sAH"
      }
    },
    {
      "cell_type": "markdown",
      "source": [
        "Our research aims to address the following questions:\n",
        "\n",
        "1. Can we develop a machine learning algorithm that can predict the probability of a patient's readmission within 30 days before their discharge?\n",
        "\n",
        "2. How can we effectively communicate the performance and benefits of this algorithm to the hospital managers, enabling them to make an informed decision about its implementation?\n",
        "\n",
        "The main challenge we face is not only the development of an effective predictive algorithm, but also explaining its complexities in a clear, digestible manner for non-technical decision-makers."
      ],
      "metadata": {
        "id": "PlVCjmaWCpzF"
      }
    },
    {
      "cell_type": "markdown",
      "source": [
        "\n",
        "\n",
        "---\n",
        "\n"
      ],
      "metadata": {
        "id": "k_dDoHDsl9X2"
      }
    },
    {
      "cell_type": "markdown",
      "source": [
        "## 1.2. Instructions\n",
        "\n",
        "1.  We aim to develop a predictive model to forecast hospital readmissions within 30 days of discharge.\n",
        "\n",
        "> Consider the next points:\n",
        "\n",
        "> The predictive model will be run prior to discharge, and before a decision has been made regarding the need for the specialized unit or the place of discharge.\n",
        "\n",
        "> This forecast will primarly aid doctors and other clinicians in making a final decision about whether a patient will need the \"specialised unit\" or not.\n",
        "\n",
        "> In addition, as part of the new protocol, this forecast will also help decide whether the patient should return to their usual place of residence or be transferred to an intermediate facility. This new protocol is set to replace the previous one concerning where patients should be discharged.\n",
        "\n",
        "> We plan to use historical data from the hospital for this purpose. Unfortunately, the historical data with which we have been provided doesn't include any record of the pilot study that ran for a year, which could have assisted in training our model.\n",
        "\n",
        "\n",
        "2. Review the research questions and make the appropriate decisions for building this predictive model, in accordance with the research question text.\n",
        "\n",
        "\n",
        "3.   Thoroughly review and study the data provided. Please pay close attention to the data dictionary (PDF inside the data folder) and revisit the plots and graphs created during weeks 1, 2, and 3.\n",
        "\n",
        "4. Given that the hospital has already provided the data, we'll bypass the following steps in the health data science workflow (refer to the image below): Step 3 and substeps 3a,3b,3c,3d,3e: Data Gathering.\n",
        "\n",
        "5. In Step 4, substep 4a (Data visualization), visualize the data in your drafts, but do not include the graphs in your final submission.\n",
        "\n",
        "6. The hospital aims to capture as many \"readmissions\" as possible (true positives), even if this moderately increases the number of false positives within reason (i.e., patients not at risk of readmission classified as such). However, be mindful that the hospital does not have unlimited resources. An excessive number of patients identified as at-risk could inflate the operational costs of the \"specialised unit\" beyond sustainable levels.\n",
        "\n",
        "7. The data scientists at the hospital have asked that you only consider the Logistic Regression and Random Forest machine learning techniques.\n",
        "\n",
        "8. Design various machine learning algorithms with different hyperparameters. Select one and provide a rationale for your choice.\n",
        "\n",
        "9. Use the classification_report and confusion matrix metrics for model evaluation. If you use other metrics such as the ROC curve, do not include them in your final submission.\n",
        "\n",
        "10. Justification for your decisions is crucial. Provide a one or two sentence explanation for each section preceding the relevant Python code block. You are encouraged to use \"Sanity Checks\" during the construction of the algorithms. Please do not include them in your final submission.\n",
        "\n",
        "11. Ensure clear labels for printed results and briefly detail the steps followed.\n",
        "\n",
        "12. Remember to comment and document your code thoroughly, as this will likely serve as a foundation for team-based algorithm development in the future.\n",
        "\n",
        "13. Format: Jupyter Notebook.\n",
        "\n",
        "14. Programming Language: Python.\n",
        "\n",
        "15. Submission: Upload the Jupyter Notebook to the designated section in OpenLearning and on your GitHub space. Submissions will close precisely at the deadline.\n",
        "\n",
        "16. Only submit the final version of your document.\n",
        "\n",
        "17. Include your first and last names in the document's title. For example: Final-Assignment-AnnXu-MichaelRoss.ipynb\n",
        "\n",
        "18. Each question is worth 1 mark, except question 8, which is worth 2 marks.\n",
        "\n",
        "19. Marks will be deducted for failure to follow the previous instructions.\n",
        "\n",
        "20. Refer to the provided [rubric](https://unsw-my.sharepoint.com/:w:/g/personal/z3368601_ad_unsw_edu_au/EYaMoVWZ20hFoj9R8hL2PIIB4-ACN6c4bf4uCI66gzpEqA?e=tUJZiB).\n",
        "\n"
      ],
      "metadata": {
        "id": "CI9JCYKb-6tz"
      }
    },
    {
      "cell_type": "markdown",
      "source": [
        "![alt text](https://drive.google.com/uc?export=view&id=105SGqeyo8RgLhSO8mN7ZE5OsG0YiLPKt)"
      ],
      "metadata": {
        "id": "9wK1oQbhq5hX"
      }
    },
    {
      "cell_type": "markdown",
      "source": [
        "## 1.3. Late Submission Penalty\n",
        "\n",
        "UNSW has a [standard](https://www.unsw.edu.au/arts-design-architecture/student-life/resources-support/protocols-guidelines)  late submission penalty of:\n",
        "\n",
        "\n",
        "*   5% per day,\n",
        "*   for all assessments where a penalty applies,\n",
        "*   capped at five days (120 hours) from the assessment deadline, after which a student cannot submit an assessment,\n",
        "*   and no permitted variation.\n",
        "\n",
        "Students are expected to manage their time to meet deadlines and to request extensions as early as possible before the deadline."
      ],
      "metadata": {
        "id": "Z9Yo-Q0QKhSW"
      }
    },
    {
      "cell_type": "markdown",
      "source": [
        "## 1.4. Marks and Feedback\n",
        "\n",
        "Per UNSW's policy, the marks and feedback of this assignment will be released after UNSW releases the final marks."
      ],
      "metadata": {
        "id": "a_aTlwYkKynH"
      }
    },
    {
      "cell_type": "markdown",
      "source": [
        "\n",
        "\n",
        "---\n",
        "\n"
      ],
      "metadata": {
        "id": "3eE8VXdpl_I2"
      }
    },
    {
      "cell_type": "markdown",
      "source": [
        "## 1.5. Provided Python Code"
      ],
      "metadata": {
        "id": "2n7dR4_xLlk-"
      }
    },
    {
      "cell_type": "code",
      "execution_count": 1,
      "metadata": {
        "id": "skbhUSeQiKQa",
        "colab": {
          "base_uri": "https://localhost:8080/"
        },
        "outputId": "be8aa829-dbbb-40ad-da7b-91b378b927ee"
      },
      "outputs": [
        {
          "output_type": "stream",
          "name": "stdout",
          "text": [
            "Installing:  {'grid', 'shap'}\n"
          ]
        }
      ],
      "source": [
        "# check required libraries are installed if not calling system to install\n",
        "import sys\n",
        "import subprocess\n",
        "import pkg_resources\n",
        "\n",
        "required = {'numpy', 'pandas', 'plotnine', 'matplotlib', 'seaborn',\n",
        "            'grid', 'shap', 'scikit-learn'}\n",
        "installed = {pkg.key for pkg in pkg_resources.working_set}\n",
        "missing = required - installed\n",
        "\n",
        "if missing:\n",
        "    print('Installing: ', missing)\n",
        "    python = sys.executable\n",
        "    subprocess.check_call([python, '-m', 'pip', 'install', *missing], stdout=subprocess.DEVNULL)\n",
        "# delete unwanted variables\n",
        "del required\n",
        "del installed\n",
        "del missing"
      ]
    },
    {
      "cell_type": "code",
      "execution_count": 2,
      "metadata": {
        "id": "Y8p62DC4iKQb",
        "colab": {
          "base_uri": "https://localhost:8080/"
        },
        "outputId": "c507352d-9b1c-424e-b5ed-20b153c581e7"
      },
      "outputs": [
        {
          "output_type": "stream",
          "name": "stdout",
          "text": [
            "Mounted at /content/drive\n"
          ]
        }
      ],
      "source": [
        "# Mount Google Drive\n",
        "# We do not need to run this cell if you are not running this notebook in Google Colab\n",
        "\n",
        "if 'google.colab' in str(get_ipython()):\n",
        "    from google.colab import drive # import drive from Gogle colab\n",
        "    root = '/content/drive'     # default location for the drive\n",
        "    # print(root)                 # print content of ROOT (Optional)\n",
        "    drive.mount(root)\n",
        "else:\n",
        "    print('Not running on CoLab')"
      ]
    },
    {
      "cell_type": "markdown",
      "source": [
        "Change the project paths and the paths according to where you have placed your files:"
      ],
      "metadata": {
        "id": "T70EJU8pAzeY"
      }
    },
    {
      "cell_type": "code",
      "execution_count": 3,
      "metadata": {
        "id": "kRNGzaEjiKQc"
      },
      "outputs": [],
      "source": [
        "from pathlib import Path\n",
        "\n",
        "if 'google.colab' in str(get_ipython()):\n",
        "    # EDIT THE PROJECT PATH IF DIFFERENT WITH YOUR ONE\n",
        "    project_path = Path(root) / 'MyDrive' / 'HDAT9500' / 'final-assignment'\n",
        "\n",
        "    # OPTIONAL - set working directory according to your google drive project path\n",
        "    # import os\n",
        "    # Change directory to the location defined in project_path\n",
        "    # os.chdir(project_path)\n",
        "else:\n",
        "    project_path = Path()"
      ]
    },
    {
      "cell_type": "markdown",
      "source": [
        "\n",
        "\n",
        "---\n",
        "Function to plot the confusion matrix:\n"
      ],
      "metadata": {
        "id": "58McxBL6Angl"
      }
    },
    {
      "cell_type": "code",
      "source": [
        "import matplotlib.pyplot as plt\n",
        "import seaborn as sns\n",
        "def plot_confusion_matrix(confusion_matrix):\n",
        "  # visualise the confusion matrix\n",
        "  labels = ['No', 'Yes']\n",
        "  ax = plt.subplot()\n",
        "  sns.heatmap(confusion_matrix, annot = True, fmt = '.0f', ax = ax, cmap = 'viridis')\n",
        "\n",
        "  # labels, titles and ticks\n",
        "  ax.set_xlabel('Predicted labels')\n",
        "  ax.set_ylabel('True labels')\n",
        "  ax.set_title('Confusion Matrix')\n",
        "  ax.xaxis.set_ticklabels(labels)\n",
        "  ax.yaxis.set_ticklabels(labels)"
      ],
      "metadata": {
        "id": "ptWoRBD1os1T"
      },
      "execution_count": 108,
      "outputs": []
    },
    {
      "cell_type": "markdown",
      "source": [
        "\n",
        "\n",
        "---\n",
        "\n"
      ],
      "metadata": {
        "id": "ANok5FMeLs8Y"
      }
    },
    {
      "cell_type": "markdown",
      "source": [
        "---\n",
        "# 2. Questions:"
      ],
      "metadata": {
        "id": "rixnC6G4Lvtu"
      }
    },
    {
      "cell_type": "markdown",
      "metadata": {
        "id": "IbpJocChpcTR"
      },
      "source": [
        "## Question 1: Docstring\n",
        "\n",
        "Create a docstring that includes the following:\n",
        "\n",
        "1. Purpose: The top-level aim of our program. (Please limit this to 50 words).\n",
        "2. Author(s)\n",
        "3. Dates\n",
        "4. List of Variables, Constants, and Functions: Describe how each one is used in the program. Ensure that you choose informative variable names and thoroughly document your program (both through docstrings and comments). When required, units should accompany the variables. The list of variables must be written in different sections: General, Question 1, Question 2, ..., Question 9. For the list of variables within each section, list the variables, constants, and functions in alphabetical order.\n",
        "5. Method: The \"Method\" section in a docstring typically refers to the approach or algorithm used in the program or function. Here, you would describe the sequence of operations or steps your code follows to accomplish its goal.\n",
        "\n",
        "Structure your docstring into distinct sections, with one section per point listed above.\n",
        "\n",
        "\n"
      ]
    },
    {
      "cell_type": "markdown",
      "metadata": {
        "id": "q2zvhr_epcTS"
      },
      "source": [
        "<b> 1. Purpose: The aim of our program:</b>\n",
        "\n",
        "################################################################################\n",
        "\n",
        "(double-click here)\n",
        "\n",
        "\n",
        "################################################################################"
      ]
    },
    {
      "cell_type": "markdown",
      "source": [
        "[...]"
      ],
      "metadata": {
        "id": "YriqPVQpS3Bp"
      }
    },
    {
      "cell_type": "markdown",
      "metadata": {
        "id": "-3wGayW7marI"
      },
      "source": [
        "<b> 4. List of variables and constants in alphabetical order:</b>\n",
        "\n",
        "################################################################################\n",
        "\n",
        "(double-click here)\n",
        "For example:\n",
        "\n",
        "\n",
        "---\n",
        "\n",
        "<b> General: </b>\n",
        "\n",
        "---\n",
        "\n",
        "---\n",
        "<b> Question 1: </b>\n",
        "\n",
        "* `variable_1`: description\n",
        "* `CONSTANT`: description\n",
        "* ...\n",
        "\n",
        "---\n",
        "\n",
        "(...)\n",
        "\n",
        "---\n",
        "<b> Question 4: Training, and hyper-parameter tuning of the Logistic Regression model.</b>\n",
        "\n",
        "* `variable_10`: description\n",
        "* `CONSTANT`: description\n",
        "* ...\n",
        "\n",
        "---\n",
        "\n",
        "<b>Question 5: Evaluation of the Logistic Regression: </b>\n",
        "\n",
        "* `confusion_LR_test`: confusion matrix derived from `y_test` and `y_pred_LR_test` for the logistic regression model `grid_search_LR` evaluated on the test set.\n",
        "* `confusion_RF_test`: confusion matrix derived from `y_test` and `y_pred_RF_test` for the random forest model `grid_search_RF` evaluated on the test set.\n",
        "\n",
        "---\n",
        "\n",
        "<b>Question 6: ... </b>\n",
        "\n",
        "* `variable_200`: description\n",
        "* ...\n",
        "---\n",
        "\n",
        "################################################################################"
      ]
    },
    {
      "cell_type": "markdown",
      "source": [
        "\n",
        "\n",
        "---\n",
        "\n"
      ],
      "metadata": {
        "id": "ew1S59Vj1l2m"
      }
    },
    {
      "cell_type": "markdown",
      "source": [
        "---\n",
        "## Question 2: Read and check the pickle file provided. Prepare the data so it can be used by the algorithms that you are going to create.\n",
        "---"
      ],
      "metadata": {
        "id": "DmqPFyIbnJci"
      }
    },
    {
      "cell_type": "markdown",
      "source": [
        "<b> Rationale: What are you doing to solve this question? - 75 word count limit:</b>\n",
        "\n",
        "\n",
        "################################################################################\n",
        "\n",
        "load data. eda shows variables already grouped and one hot encoded. drop id features and discharge information. divide dataset into features and outcome and binarise outcome for future use.\n",
        "\n",
        "\n",
        "################################################################################"
      ],
      "metadata": {
        "id": "1AogtSxHxEW5"
      }
    },
    {
      "cell_type": "code",
      "source": [
        "# Python code here (15 lines limit, 1 cell limit)\n",
        "# Import and read dataset\n",
        "import pickle\n",
        "pickle_path = Path(project_path) / 'data' / 'hospital_data_final_assignment.pickle'\n",
        "\n",
        "with open(pickle_path, 'rb') as data:\n",
        "  hospital = pickle.load(data)\n",
        "\n",
        "# Drop id and discharge_disposition columns\n",
        "hospital = hospital.drop(['admission_id', 'patient_id'], axis = 1)\n",
        "hospital = hospital.drop(hospital.iloc[:, 49:57], axis = 1)\n",
        "\n",
        "# Divide dataset into X (predictors/features) and y (outcome)\n",
        "X = hospital.drop(columns = ['readmission'], axis = 1)\n",
        "y = hospital['readmission']\n",
        "\n",
        "# Binarise outcome\n",
        "y_binary = [0 if x == 'no' else 1 for x in y]"
      ],
      "metadata": {
        "id": "DJJoTVRw049e"
      },
      "execution_count": 78,
      "outputs": []
    },
    {
      "cell_type": "code",
      "source": [
        "# delete this cell. Just doing EDA and sanity checks\n",
        "import pandas as pd\n",
        "#pd.set_option('display.max_columns', 100)\n",
        "#pd.set_option('display.max_rows', 100)\n",
        "#print(\"Number of rows and columns:\", hospital.shape) #original rows 72, after deletion = 61\n",
        "#hospital.head()\n",
        "#print(hospital.columns)\n",
        "#hospital['readmission'].dtypes #everything is an integer except readmission = object\n",
        "#hospital.columns[49:57]\n",
        "#hospital.describe(include = 'all')\n",
        "#hospital.value_counts(hospital['readmission']) #57348 not readmitted and 11919 readmitted - imbalanced dataset\n",
        "#pd.DataFrame((hospital['readmission'].value_counts(normalize=True)*100)) #82.8% no, 17.2% yes\n",
        "#print(hospital.isnull().sum()) #no null records\n",
        "#del hospital\n",
        "#X.head()\n",
        "#y.head()\n",
        "#sum(i == 'yes' for i in y) == sum(i == 1 for i in y_binary)"
      ],
      "metadata": {
        "id": "6kA0Yy28osNy"
      },
      "execution_count": 113,
      "outputs": []
    },
    {
      "cell_type": "markdown",
      "source": [
        "---"
      ],
      "metadata": {
        "id": "1gsmCMIJ9oQ5"
      }
    },
    {
      "cell_type": "markdown",
      "source": [
        "---\n",
        "## Question 3: Divide the data into 80% for training and 20% for testing, using a random seed of 30. Set the other hyperparameters as you deem appropriate.\n",
        "---\n"
      ],
      "metadata": {
        "id": "PRlUipB2-nMX"
      }
    },
    {
      "cell_type": "markdown",
      "source": [
        "<b> Rationale: What are you doing to solve this question?- 75 word count limit:</b>\n",
        "\n",
        "\n",
        "################################################################################\n",
        "\n",
        "using traintestsplit in sklearn to split dataset into 80% for training and the remaining 20% for testing using binary outcome. have selected stratify to keep the proportions of the outcome in training and test sets the same due to the inbalanced outcome\n",
        "\n",
        "\n",
        "################################################################################"
      ],
      "metadata": {
        "id": "7HjTXSR6-4cR"
      }
    },
    {
      "cell_type": "code",
      "source": [
        "# Python code here (2 lines limit, and 1 cell limit)\n",
        "from sklearn.model_selection import train_test_split\n",
        "X_train, X_test, y_train, y_test = train_test_split(X, y_binary, test_size = 0.2, random_state = 30, stratify = y)"
      ],
      "metadata": {
        "id": "5LeXrTXc-4cR"
      },
      "execution_count": 84,
      "outputs": []
    },
    {
      "cell_type": "markdown",
      "source": [
        "\n",
        "\n",
        "---\n",
        "\n"
      ],
      "metadata": {
        "id": "ZcRSCX5s1kPR"
      }
    },
    {
      "cell_type": "markdown",
      "source": [
        "---\n",
        "## Question 4: Train and tune the hyperparameters of the Logistic Regression model.\n",
        "\n",
        "Hyper-parameters:\n",
        "\n",
        "- `C` values: 10, 100.\n",
        "- `class_weight`: only two pairs. Choose one of these two combinations and explain why.\n",
        "\n",
        "    * A weight of (80% for class 1, 20% for class 0) and (70% for class 1, 30% for class 0)\n",
        "    * A weight of (80% for class 0, 20% for class 1) and (70% for class 0, 30% for class 1).\n",
        "\n",
        "- `penalty` values: elasticnet, None\n",
        "- 3-fold cross-validation for the grid search.\n",
        "- `f1` as the score to choose the best model in the grid search.\n",
        "- `n_jobs`=-1.\n",
        "- do not include the heatmaps in the final submission.\n",
        "- do not change these hyper-parameters.\n",
        "- keep the remaining set of hyper-parameters in the default state.\n",
        "---\n"
      ],
      "metadata": {
        "id": "b3v2JXmp1o5W"
      }
    },
    {
      "cell_type": "markdown",
      "source": [
        "<b> Rationale: What are you doing to solve this question?-100 word count limit:</b>\n",
        "\n",
        "\n",
        "################################################################################\n",
        "\n",
        "create pipeline to scale training data before running the logistic regression model. parameter grid contains the hyperparameters to tune. present best parameters and best cross validation score (f1) of the resulting model.\n",
        "\n",
        "\n",
        "################################################################################"
      ],
      "metadata": {
        "id": "p845NQAlAY-U"
      }
    },
    {
      "cell_type": "code",
      "source": [
        "# Python code here (15 lines limit, and 2 cells limit)\n",
        "# NOTE TO SELF: add code to remove warnings before submission\n",
        "# Import required libraries\n",
        "from sklearn.linear_model import LogisticRegression\n",
        "from sklearn.pipeline import Pipeline\n",
        "from sklearn.preprocessing import StandardScaler\n",
        "\n",
        "# Nominate standardisation function\n",
        "Scaler = StandardScaler()\n",
        "\n",
        "# Nominate classification model\n",
        "log_reg = LogisticRegression(solver = 'saga', n_jobs = -1)\n",
        "\n",
        "# Create pipeline\n",
        "pipe = Pipeline([('Transform', Scaler), ('Estimator', log_reg)])\n",
        "\n",
        "# Define hyper-parameter grid:\n",
        "param_grid_lr = {'Estimator__C': [10, 100],\n",
        "              'Estimator__class_weight': [{0:0.2, 1:0.8},{0:0.3, 1:0.7}],\n",
        "              'Estimator__penalty': ['elasticnet', None]}\n",
        "\n",
        "# Initialise GridSearchCV class\n",
        "from sklearn.model_selection import GridSearchCV\n",
        "grid_search_logreg = GridSearchCV(pipe, param_grid_lr, cv = 3, scoring = 'f1')"
      ],
      "metadata": {
        "id": "-ixDi9nvAY-d"
      },
      "execution_count": 100,
      "outputs": []
    },
    {
      "cell_type": "code",
      "source": [
        "# Tune hyperparameters\n",
        "grid_search_logreg.fit(X_train, y_train)"
      ],
      "metadata": {
        "id": "YMFLt30lM9jU"
      },
      "execution_count": null,
      "outputs": []
    },
    {
      "cell_type": "code",
      "source": [
        "# Show results\n",
        "print(\"Best hyper-parameters: {}\".format(grid_search_logreg.best_params_))\n",
        "print(\"Best cross-validation score: {:.4f}\".format(grid_search_logreg.best_score_))"
      ],
      "metadata": {
        "colab": {
          "base_uri": "https://localhost:8080/"
        },
        "id": "SxdggvGLRM6V",
        "outputId": "53173673-137b-4c59-ead2-c6e7def38564"
      },
      "execution_count": 104,
      "outputs": [
        {
          "output_type": "stream",
          "name": "stdout",
          "text": [
            "Best hyper-parameters: {'Estimator__C': 10, 'Estimator__class_weight': {0: 0.3, 1: 0.7}, 'Estimator__penalty': None}\n",
            "Best cross-validation score: 0.9237\n"
          ]
        }
      ]
    },
    {
      "cell_type": "markdown",
      "source": [
        "\n",
        "\n",
        "---\n",
        "\n"
      ],
      "metadata": {
        "id": "98-HHV0DNkkC"
      }
    },
    {
      "cell_type": "markdown",
      "source": [
        "---\n",
        "## Question 5: Evaluate the Logistic Regression model on both the training and test sets. Use the `plot_confusion_matrix(confusion_matrix)` function provided above to display the results.\n",
        "---"
      ],
      "metadata": {
        "id": "y2BLfWf9NmWf"
      }
    },
    {
      "cell_type": "markdown",
      "source": [
        "<b> Rationale: Why are we evaluating the model in the training set? Why are we evaluating the model in the test set? What are you doing to solve this question?- 120 word count limit:</b>\n",
        "\n",
        "\n",
        "################################################################################\n",
        "\n",
        "(double-click here)\n",
        "\n",
        "\n",
        "################################################################################"
      ],
      "metadata": {
        "id": "T0ZoopThNyaW"
      }
    },
    {
      "cell_type": "code",
      "source": [
        "# Python code here (10 lines limit, and 2 cells limit)\n",
        "from sklearn.metrics import confusion_matrix\n",
        "from sklearn.metrics import f1_score\n",
        "from sklearn.metrics import classification_report\n",
        "\n",
        "# Evaluating model on training set:\n",
        "print(grid_search_logreg.score(X_train, y_train))\n",
        "\n",
        "\n"
      ],
      "metadata": {
        "id": "L1GEJ8kGNyaW",
        "colab": {
          "base_uri": "https://localhost:8080/",
          "height": 490
        },
        "outputId": "59bb0d79-b8d9-48ec-8bd3-eac2da5f4bdd"
      },
      "execution_count": 126,
      "outputs": [
        {
          "output_type": "stream",
          "name": "stdout",
          "text": [
            "0.9250906161900927\n"
          ]
        },
        {
          "output_type": "display_data",
          "data": {
            "text/plain": [
              "<Figure size 640x480 with 2 Axes>"
            ],
            "image/png": "[encoded data removed]"
          },
          "metadata": {}
        }
      ]
    },
    {
      "cell_type": "code",
      "source": [
        "# Evaluating model on test set:\n",
        "pred_logreg = grid_search_logreg.predict(X_test)\n",
        "\n",
        "# Create and plot confusion matrix\n",
        "logreg_confusion = confusion_matrix(y_test, pred_logreg)\n",
        "plot_confusion_matrix(logreg_confusion)\n",
        "\n",
        "# Classification report\n",
        "class_df = pd.DataFrame(classification_report(y_test, pred_logreg, output_dict = True))\n",
        "print(class_df)\n",
        "\n",
        "from sklearn.metrics import accuracy_score\n",
        "print(logreg_confusion)\n",
        "print('Results of applying model to test data:\\n')\n",
        "print(f'Recall: \\t\\t{round(logreg_confusion[1][1]/(logreg_confusion[1][1]+logreg_confusion[1][0]),3)}')\n",
        "print(f'Precision: \\t\\t{round(logreg_confusion[1][1]/(logreg_confusion[1][1]+logreg_confusion[0][1]),3)}')\n",
        "print(f'Accuracy: \\t\\t{round(accuracy_score(y_test, pred_logreg),3)}')\n",
        "print(f'F1 score: \\t\\t{round(f1_score(y_test, pred_logreg),3)}')\n",
        "\n",
        "#NOTE TO SELF: decide how to present these scores. class report for outcome 1 is same as calculations on conf matrix\n",
        "#Do we do all the different scores on training data as well"
      ],
      "metadata": {
        "colab": {
          "base_uri": "https://localhost:8080/"
        },
        "id": "0N-YTYq0X5z-",
        "outputId": "2c9202f3-9ec8-47fb-b6e5-ded24ab9919f"
      },
      "execution_count": 123,
      "outputs": [
        {
          "output_type": "stream",
          "name": "stdout",
          "text": [
            "                      0            1  accuracy     macro avg  weighted avg\n",
            "precision      0.990961     0.888283  0.971921      0.939622      0.973293\n",
            "recall         0.974978     0.957215  0.971921      0.966096      0.971921\n",
            "f1-score       0.982905     0.921462  0.971921      0.952183      0.972332\n",
            "support    11470.000000  2384.000000  0.971921  13854.000000  13854.000000\n",
            "[[11183   287]\n",
            " [  102  2282]]\n",
            "Results of applying model to test data:\n",
            "\n",
            "Recall: \t\t0.957\n",
            "Precision: \t\t0.888\n",
            "Accuracy: \t\t0.972\n",
            "F1 score: \t\t0.921\n"
          ]
        }
      ]
    },
    {
      "cell_type": "markdown",
      "source": [
        "\n",
        "\n",
        "---\n",
        "\n"
      ],
      "metadata": {
        "id": "CTIi2cd1yugI"
      }
    },
    {
      "cell_type": "markdown",
      "source": [
        "---\n",
        "## Question 6: Train and tune the hyperparameters of the of the Random Forest model.  \n",
        "\n",
        "Fixed hyper-parameters (do not change the values of these hyper-parameters):\n",
        "\n",
        "- `n_estimators`: 125, 150\n",
        "- `class_weight`: Only two pairs. Choose one of these two combinations (either combination 1 or combination 2) and explain why.\n",
        "1. A weight of (80% for class 1, 20% for class 0) and (70% for class 1, 30% for class 0)\n",
        "2.  A weight of (80% for class 0, 20% for class 1) and (70% for class 0, 30% for class 1).\n",
        "- 3-fold cross-validation for the grid search.\n",
        "- Select the score to choose the best model in the grid search.\n",
        "- `n_jobs`=-1\n",
        "- do not include the heatmaps in the final submission\n",
        "\n",
        "Other hyper-parameters:\n",
        "\n",
        "- `max_features`: 20, 30\n",
        "- `min_samples_split`: 20, 25\n",
        "- you can change the previous hyper-parameters (`max_features` and `min_samples_split`) or add other hyper-parameters if you wish. An explanation must be given to why you made that decision.\n",
        "\n",
        "---\n"
      ],
      "metadata": {
        "id": "iTQtpo_8yvX3"
      }
    },
    {
      "cell_type": "markdown",
      "source": [
        "<b> Rationale: What are you doing to solve this question?-150 word count limit:</b>\n",
        "\n",
        "\n",
        "################################################################################\n",
        "\n",
        "(double-click here)\n",
        "\n",
        "\n",
        "################################################################################"
      ],
      "metadata": {
        "id": "fA5-7Qpe2SPC"
      }
    },
    {
      "cell_type": "code",
      "source": [
        "# Python code here (15 lines limit, and 2 cells limit)\n",
        "from sklearn.ensemble import RandomForestClassifier\n",
        "\n",
        "# Initialise model\n",
        "rf_classifier = RandomForestClassifier(random_state = 0, n_jobs = -1)\n",
        "\n",
        "# Create parameter grid\n",
        "param_grid_rf = {'n_estimators': [125, 150],\n",
        "              'class_weight': [{0:0.2, 1:0.8},{0:0.3, 1:0.7}],\n",
        "              'max_features': [20, 30],\n",
        "              'min_samples_split': [20,25]}\n",
        "\n",
        "# Initialise GridSearchCV class\n",
        "grid_search_rf = GridSearchCV(rf_classifier, param_grid_rf, cv = 3, scoring = 'f1')\n"
      ],
      "metadata": {
        "id": "9CHL7UB52SPJ"
      },
      "execution_count": 141,
      "outputs": []
    },
    {
      "cell_type": "code",
      "source": [
        "# Tune hyperparameters\n",
        "grid_search_rf.fit(X_train, y_train)"
      ],
      "metadata": {
        "id": "Y_dj22dyk6CP",
        "outputId": "065788d2-3048-46c8-f4fa-984f27a7e22c",
        "colab": {
          "base_uri": "https://localhost:8080/",
          "height": 118
        }
      },
      "execution_count": 142,
      "outputs": [
        {
          "output_type": "execute_result",
          "data": {
            "text/plain": [
              "GridSearchCV(cv=3, estimator=RandomForestClassifier(n_jobs=-1, random_state=0),\n",
              "             param_grid={'class_weight': [{0: 0.2, 1: 0.8}, {0: 0.3, 1: 0.7}],\n",
              "                         'max_features': [20, 30],\n",
              "                         'min_samples_split': [20, 25],\n",
              "                         'n_estimators': [125, 150]},\n",
              "             scoring='f1')"
            ],
            "text/html": [
              "<style>#sk-container-id-4 {color: black;background-color: white;}#sk-container-id-4 pre{padding: 0;}#sk-container-id-4 div.sk-toggleable {background-color: white;}#sk-container-id-4 label.sk-toggleable__label {cursor: pointer;display: block;width: 100%;margin-bottom: 0;padding: 0.3em;box-sizing: border-box;text-align: center;}#sk-container-id-4 label.sk-toggleable__label-arrow:before {content: \"▸\";float: left;margin-right: 0.25em;color: #696969;}#sk-container-id-4 label.sk-toggleable__label-arrow:hover:before {color: black;}#sk-container-id-4 div.sk-estimator:hover label.sk-toggleable__label-arrow:before {color: black;}#sk-container-id-4 div.sk-toggleable__content {max-height: 0;max-width: 0;overflow: hidden;text-align: left;background-color: #f0f8ff;}#sk-container-id-4 div.sk-toggleable__content pre {margin: 0.2em;color: black;border-radius: 0.25em;background-color: #f0f8ff;}#sk-container-id-4 input.sk-toggleable__control:checked~div.sk-toggleable__content {max-height: 200px;max-width: 100%;overflow: auto;}#sk-container-id-4 input.sk-toggleable__control:checked~label.sk-toggleable__label-arrow:before {content: \"▾\";}#sk-container-id-4 div.sk-estimator input.sk-toggleable__control:checked~label.sk-toggleable__label {background-color: #d4ebff;}#sk-container-id-4 div.sk-label input.sk-toggleable__control:checked~label.sk-toggleable__label {background-color: #d4ebff;}#sk-container-id-4 input.sk-hidden--visually {border: 0;clip: rect(1px 1px 1px 1px);clip: rect(1px, 1px, 1px, 1px);height: 1px;margin: -1px;overflow: hidden;padding: 0;position: absolute;width: 1px;}#sk-container-id-4 div.sk-estimator {font-family: monospace;background-color: #f0f8ff;border: 1px dotted black;border-radius: 0.25em;box-sizing: border-box;margin-bottom: 0.5em;}#sk-container-id-4 div.sk-estimator:hover {background-color: #d4ebff;}#sk-container-id-4 div.sk-parallel-item::after {content: \"\";width: 100%;border-bottom: 1px solid gray;flex-grow: 1;}#sk-container-id-4 div.sk-label:hover label.sk-toggleable__label {background-color: #d4ebff;}#sk-container-id-4 div.sk-serial::before {content: \"\";position: absolute;border-left: 1px solid gray;box-sizing: border-box;top: 0;bottom: 0;left: 50%;z-index: 0;}#sk-container-id-4 div.sk-serial {display: flex;flex-direction: column;align-items: center;background-color: white;padding-right: 0.2em;padding-left: 0.2em;position: relative;}#sk-container-id-4 div.sk-item {position: relative;z-index: 1;}#sk-container-id-4 div.sk-parallel {display: flex;align-items: stretch;justify-content: center;background-color: white;position: relative;}#sk-container-id-4 div.sk-item::before, #sk-container-id-4 div.sk-parallel-item::before {content: \"\";position: absolute;border-left: 1px solid gray;box-sizing: border-box;top: 0;bottom: 0;left: 50%;z-index: -1;}#sk-container-id-4 div.sk-parallel-item {display: flex;flex-direction: column;z-index: 1;position: relative;background-color: white;}#sk-container-id-4 div.sk-parallel-item:first-child::after {align-self: flex-end;width: 50%;}#sk-container-id-4 div.sk-parallel-item:last-child::after {align-self: flex-start;width: 50%;}#sk-container-id-4 div.sk-parallel-item:only-child::after {width: 0;}#sk-container-id-4 div.sk-dashed-wrapped {border: 1px dashed gray;margin: 0 0.4em 0.5em 0.4em;box-sizing: border-box;padding-bottom: 0.4em;background-color: white;}#sk-container-id-4 div.sk-label label {font-family: monospace;font-weight: bold;display: inline-block;line-height: 1.2em;}#sk-container-id-4 div.sk-label-container {text-align: center;}#sk-container-id-4 div.sk-container {/* jupyter's `normalize.less` sets `[hidden] { display: none; }` but bootstrap.min.css set `[hidden] { display: none !important; }` so we also need the `!important` here to be able to override the default hidden behavior on the sphinx rendered scikit-learn.org. See: https://github.com/scikit-learn/scikit-learn/issues/21755 */display: inline-block !important;position: relative;}#sk-container-id-4 div.sk-text-repr-fallback {display: none;}</style><div id=\"sk-container-id-4\" class=\"sk-top-container\"><div class=\"sk-text-repr-fallback\"><pre>GridSearchCV(cv=3, estimator=RandomForestClassifier(n_jobs=-1, random_state=0),\n",
              "             param_grid={&#x27;class_weight&#x27;: [{0: 0.2, 1: 0.8}, {0: 0.3, 1: 0.7}],\n",
              "                         &#x27;max_features&#x27;: [20, 30],\n",
              "                         &#x27;min_samples_split&#x27;: [20, 25],\n",
              "                         &#x27;n_estimators&#x27;: [125, 150]},\n",
              "             scoring=&#x27;f1&#x27;)</pre><b>In a Jupyter environment, please rerun this cell to show the HTML representation or trust the notebook. <br />On GitHub, the HTML representation is unable to render, please try loading this page with nbviewer.org.</b></div><div class=\"sk-container\" hidden><div class=\"sk-item sk-dashed-wrapped\"><div class=\"sk-label-container\"><div class=\"sk-label sk-toggleable\"><input class=\"sk-toggleable__control sk-hidden--visually\" id=\"sk-estimator-id-11\" type=\"checkbox\" ><label for=\"sk-estimator-id-11\" class=\"sk-toggleable__label sk-toggleable__label-arrow\">GridSearchCV</label><div class=\"sk-toggleable__content\"><pre>GridSearchCV(cv=3, estimator=RandomForestClassifier(n_jobs=-1, random_state=0),\n",
              "             param_grid={&#x27;class_weight&#x27;: [{0: 0.2, 1: 0.8}, {0: 0.3, 1: 0.7}],\n",
              "                         &#x27;max_features&#x27;: [20, 30],\n",
              "                         &#x27;min_samples_split&#x27;: [20, 25],\n",
              "                         &#x27;n_estimators&#x27;: [125, 150]},\n",
              "             scoring=&#x27;f1&#x27;)</pre></div></div></div><div class=\"sk-parallel\"><div class=\"sk-parallel-item\"><div class=\"sk-item\"><div class=\"sk-label-container\"><div class=\"sk-label sk-toggleable\"><input class=\"sk-toggleable__control sk-hidden--visually\" id=\"sk-estimator-id-12\" type=\"checkbox\" ><label for=\"sk-estimator-id-12\" class=\"sk-toggleable__label sk-toggleable__label-arrow\">estimator: RandomForestClassifier</label><div class=\"sk-toggleable__content\"><pre>RandomForestClassifier(n_jobs=-1, random_state=0)</pre></div></div></div><div class=\"sk-serial\"><div class=\"sk-item\"><div class=\"sk-estimator sk-toggleable\"><input class=\"sk-toggleable__control sk-hidden--visually\" id=\"sk-estimator-id-13\" type=\"checkbox\" ><label for=\"sk-estimator-id-13\" class=\"sk-toggleable__label sk-toggleable__label-arrow\">RandomForestClassifier</label><div class=\"sk-toggleable__content\"><pre>RandomForestClassifier(n_jobs=-1, random_state=0)</pre></div></div></div></div></div></div></div></div></div></div>"
            ]
          },
          "metadata": {},
          "execution_count": 142
        }
      ]
    },
    {
      "cell_type": "code",
      "source": [
        "print(\"Best parameters: {}\".format(grid_search_rf.best_params_))\n",
        "print(\"Best cross-validation average f1 score: {:.4f}\".format(grid_search_rf.best_score_))"
      ],
      "metadata": {
        "id": "dcdTgHfbmcRS",
        "outputId": "b2083d19-e4a5-4e48-e412-20e06e52183b",
        "colab": {
          "base_uri": "https://localhost:8080/"
        }
      },
      "execution_count": 143,
      "outputs": [
        {
          "output_type": "stream",
          "name": "stdout",
          "text": [
            "Best parameters: {'class_weight': {0: 0.3, 1: 0.7}, 'max_features': 30, 'min_samples_split': 20, 'n_estimators': 150}\n",
            "Best cross-validation average f1 score: 0.9387\n"
          ]
        }
      ]
    },
    {
      "cell_type": "code",
      "source": [
        "# Creating DataFrame with GridSearchCV results. df stands for Dataframe\n",
        "df_gridsearch = pd.DataFrame(grid_search_rf.cv_results_).drop(columns='params')\n",
        "\n",
        "max_scores = df_gridsearch.groupby(['param_max_features',\n",
        "                                    'param_min_samples_split']).max()\n",
        "max_scores = max_scores.unstack()[['mean_test_score']]\n",
        "sns.heatmap(max_scores.mean_test_score, annot=True, fmt='.3g')\n"
      ],
      "metadata": {
        "id": "jFMrxoYWmnPZ"
      },
      "execution_count": null,
      "outputs": []
    },
    {
      "cell_type": "code",
      "source": [
        "# Update parameter grid\n",
        "param_grid_rf_detail = {'n_estimators': [150],\n",
        "              'class_weight': [{0:0.3, 1:0.7}],\n",
        "              'max_features': [25, 30, 35],\n",
        "              'min_samples_split': [18, 20, 22]}\n",
        "\n",
        "grid_search_rf_detail = GridSearchCV(rf_classifier, param_grid_rf_detail, cv = 3, scoring = 'f1')"
      ],
      "metadata": {
        "id": "3g-6WjekpplE"
      },
      "execution_count": 136,
      "outputs": []
    },
    {
      "cell_type": "code",
      "source": [
        "grid_search_rf_detail.fit(X_train, y_train)"
      ],
      "metadata": {
        "id": "LmfocSGipvHg",
        "outputId": "79f6cdbd-80ba-4f72-9b64-0def970e09a5",
        "colab": {
          "base_uri": "https://localhost:8080/",
          "height": 118
        }
      },
      "execution_count": 137,
      "outputs": [
        {
          "output_type": "execute_result",
          "data": {
            "text/plain": [
              "GridSearchCV(cv=3, estimator=RandomForestClassifier(n_jobs=-1, random_state=0),\n",
              "             param_grid={'class_weight': [{0: 0.3, 1: 0.7}],\n",
              "                         'max_features': [25, 30, 35],\n",
              "                         'min_samples_split': [18, 20, 22],\n",
              "                         'n_estimators': [150]},\n",
              "             scoring='f1')"
            ],
            "text/html": [
              "<style>#sk-container-id-3 {color: black;background-color: white;}#sk-container-id-3 pre{padding: 0;}#sk-container-id-3 div.sk-toggleable {background-color: white;}#sk-container-id-3 label.sk-toggleable__label {cursor: pointer;display: block;width: 100%;margin-bottom: 0;padding: 0.3em;box-sizing: border-box;text-align: center;}#sk-container-id-3 label.sk-toggleable__label-arrow:before {content: \"▸\";float: left;margin-right: 0.25em;color: #696969;}#sk-container-id-3 label.sk-toggleable__label-arrow:hover:before {color: black;}#sk-container-id-3 div.sk-estimator:hover label.sk-toggleable__label-arrow:before {color: black;}#sk-container-id-3 div.sk-toggleable__content {max-height: 0;max-width: 0;overflow: hidden;text-align: left;background-color: #f0f8ff;}#sk-container-id-3 div.sk-toggleable__content pre {margin: 0.2em;color: black;border-radius: 0.25em;background-color: #f0f8ff;}#sk-container-id-3 input.sk-toggleable__control:checked~div.sk-toggleable__content {max-height: 200px;max-width: 100%;overflow: auto;}#sk-container-id-3 input.sk-toggleable__control:checked~label.sk-toggleable__label-arrow:before {content: \"▾\";}#sk-container-id-3 div.sk-estimator input.sk-toggleable__control:checked~label.sk-toggleable__label {background-color: #d4ebff;}#sk-container-id-3 div.sk-label input.sk-toggleable__control:checked~label.sk-toggleable__label {background-color: #d4ebff;}#sk-container-id-3 input.sk-hidden--visually {border: 0;clip: rect(1px 1px 1px 1px);clip: rect(1px, 1px, 1px, 1px);height: 1px;margin: -1px;overflow: hidden;padding: 0;position: absolute;width: 1px;}#sk-container-id-3 div.sk-estimator {font-family: monospace;background-color: #f0f8ff;border: 1px dotted black;border-radius: 0.25em;box-sizing: border-box;margin-bottom: 0.5em;}#sk-container-id-3 div.sk-estimator:hover {background-color: #d4ebff;}#sk-container-id-3 div.sk-parallel-item::after {content: \"\";width: 100%;border-bottom: 1px solid gray;flex-grow: 1;}#sk-container-id-3 div.sk-label:hover label.sk-toggleable__label {background-color: #d4ebff;}#sk-container-id-3 div.sk-serial::before {content: \"\";position: absolute;border-left: 1px solid gray;box-sizing: border-box;top: 0;bottom: 0;left: 50%;z-index: 0;}#sk-container-id-3 div.sk-serial {display: flex;flex-direction: column;align-items: center;background-color: white;padding-right: 0.2em;padding-left: 0.2em;position: relative;}#sk-container-id-3 div.sk-item {position: relative;z-index: 1;}#sk-container-id-3 div.sk-parallel {display: flex;align-items: stretch;justify-content: center;background-color: white;position: relative;}#sk-container-id-3 div.sk-item::before, #sk-container-id-3 div.sk-parallel-item::before {content: \"\";position: absolute;border-left: 1px solid gray;box-sizing: border-box;top: 0;bottom: 0;left: 50%;z-index: -1;}#sk-container-id-3 div.sk-parallel-item {display: flex;flex-direction: column;z-index: 1;position: relative;background-color: white;}#sk-container-id-3 div.sk-parallel-item:first-child::after {align-self: flex-end;width: 50%;}#sk-container-id-3 div.sk-parallel-item:last-child::after {align-self: flex-start;width: 50%;}#sk-container-id-3 div.sk-parallel-item:only-child::after {width: 0;}#sk-container-id-3 div.sk-dashed-wrapped {border: 1px dashed gray;margin: 0 0.4em 0.5em 0.4em;box-sizing: border-box;padding-bottom: 0.4em;background-color: white;}#sk-container-id-3 div.sk-label label {font-family: monospace;font-weight: bold;display: inline-block;line-height: 1.2em;}#sk-container-id-3 div.sk-label-container {text-align: center;}#sk-container-id-3 div.sk-container {/* jupyter's `normalize.less` sets `[hidden] { display: none; }` but bootstrap.min.css set `[hidden] { display: none !important; }` so we also need the `!important` here to be able to override the default hidden behavior on the sphinx rendered scikit-learn.org. See: https://github.com/scikit-learn/scikit-learn/issues/21755 */display: inline-block !important;position: relative;}#sk-container-id-3 div.sk-text-repr-fallback {display: none;}</style><div id=\"sk-container-id-3\" class=\"sk-top-container\"><div class=\"sk-text-repr-fallback\"><pre>GridSearchCV(cv=3, estimator=RandomForestClassifier(n_jobs=-1, random_state=0),\n",
              "             param_grid={&#x27;class_weight&#x27;: [{0: 0.3, 1: 0.7}],\n",
              "                         &#x27;max_features&#x27;: [25, 30, 35],\n",
              "                         &#x27;min_samples_split&#x27;: [18, 20, 22],\n",
              "                         &#x27;n_estimators&#x27;: [150]},\n",
              "             scoring=&#x27;f1&#x27;)</pre><b>In a Jupyter environment, please rerun this cell to show the HTML representation or trust the notebook. <br />On GitHub, the HTML representation is unable to render, please try loading this page with nbviewer.org.</b></div><div class=\"sk-container\" hidden><div class=\"sk-item sk-dashed-wrapped\"><div class=\"sk-label-container\"><div class=\"sk-label sk-toggleable\"><input class=\"sk-toggleable__control sk-hidden--visually\" id=\"sk-estimator-id-8\" type=\"checkbox\" ><label for=\"sk-estimator-id-8\" class=\"sk-toggleable__label sk-toggleable__label-arrow\">GridSearchCV</label><div class=\"sk-toggleable__content\"><pre>GridSearchCV(cv=3, estimator=RandomForestClassifier(n_jobs=-1, random_state=0),\n",
              "             param_grid={&#x27;class_weight&#x27;: [{0: 0.3, 1: 0.7}],\n",
              "                         &#x27;max_features&#x27;: [25, 30, 35],\n",
              "                         &#x27;min_samples_split&#x27;: [18, 20, 22],\n",
              "                         &#x27;n_estimators&#x27;: [150]},\n",
              "             scoring=&#x27;f1&#x27;)</pre></div></div></div><div class=\"sk-parallel\"><div class=\"sk-parallel-item\"><div class=\"sk-item\"><div class=\"sk-label-container\"><div class=\"sk-label sk-toggleable\"><input class=\"sk-toggleable__control sk-hidden--visually\" id=\"sk-estimator-id-9\" type=\"checkbox\" ><label for=\"sk-estimator-id-9\" class=\"sk-toggleable__label sk-toggleable__label-arrow\">estimator: RandomForestClassifier</label><div class=\"sk-toggleable__content\"><pre>RandomForestClassifier(n_jobs=-1, random_state=0)</pre></div></div></div><div class=\"sk-serial\"><div class=\"sk-item\"><div class=\"sk-estimator sk-toggleable\"><input class=\"sk-toggleable__control sk-hidden--visually\" id=\"sk-estimator-id-10\" type=\"checkbox\" ><label for=\"sk-estimator-id-10\" class=\"sk-toggleable__label sk-toggleable__label-arrow\">RandomForestClassifier</label><div class=\"sk-toggleable__content\"><pre>RandomForestClassifier(n_jobs=-1, random_state=0)</pre></div></div></div></div></div></div></div></div></div></div>"
            ]
          },
          "metadata": {},
          "execution_count": 137
        }
      ]
    },
    {
      "cell_type": "code",
      "source": [
        "print(\"Best parameters: {}\".format(grid_search_rf_detail.best_params_))\n",
        "print(\"Best cross-validation average f1 score: {:.4f}\".format(grid_search_rf_detail.best_score_))"
      ],
      "metadata": {
        "id": "AzvtfE8urOhS",
        "outputId": "8257dd77-d9c0-4f4e-c2e3-96e8381f7a03",
        "colab": {
          "base_uri": "https://localhost:8080/"
        }
      },
      "execution_count": 139,
      "outputs": [
        {
          "output_type": "stream",
          "name": "stdout",
          "text": [
            "Best parameters: {'class_weight': {0: 0.3, 1: 0.7}, 'max_features': 30, 'min_samples_split': 18, 'n_estimators': 150}\n",
            "Best cross-validation average f1 score: 0.9388\n"
          ]
        }
      ]
    },
    {
      "cell_type": "markdown",
      "source": [],
      "metadata": {
        "id": "DaCM0ph6lHlA"
      }
    },
    {
      "cell_type": "markdown",
      "source": [
        "---"
      ],
      "metadata": {
        "id": "_zu7iaT8AANM"
      }
    },
    {
      "cell_type": "markdown",
      "source": [
        "---\n",
        "## Question 7: Evaluate the Random Forest model on both the training and test sets. Use the `plot_confusion_matrix(confusion_matrix)` function provided above to display the results.\n",
        "---"
      ],
      "metadata": {
        "id": "xwh91teY3VgL"
      }
    },
    {
      "cell_type": "markdown",
      "source": [
        "<b> Rationale: Why are we evaluating the model in the training set? Why are we evaluating the model in the test set? What are you doing to solve this question?- 120 word count limit:</b>\n",
        "\n",
        "################################################################################\n",
        "\n",
        "(double-click here)\n",
        "\n",
        "\n",
        "################################################################################"
      ],
      "metadata": {
        "id": "hiHbV8Sf3VgT"
      }
    },
    {
      "cell_type": "code",
      "source": [
        "# Python code here (10 lines limit, and 2 cells limit)\n",
        "from sklearn.metrics import confusion_matrix\n",
        "from sklearn.metrics import f1_score\n",
        "from sklearn.metrics import classification_report\n",
        "\n",
        "# Evaluating model on training set:\n",
        "print(grid_search_rf.score(X_train, y_train))"
      ],
      "metadata": {
        "id": "Yk4wPAlV3VgU",
        "colab": {
          "base_uri": "https://localhost:8080/"
        },
        "outputId": "8e3dd242-9605-4cad-ccb3-156b01044d13"
      },
      "execution_count": 144,
      "outputs": [
        {
          "output_type": "stream",
          "name": "stdout",
          "text": [
            "0.9670430739359255\n"
          ]
        }
      ]
    },
    {
      "cell_type": "code",
      "source": [
        "# Evaluating model on test set:\n",
        "pred_rf = grid_search_rf.predict(X_test)\n",
        "\n",
        "# Create and plot confusion matrix\n",
        "rf_confusion = confusion_matrix(y_test, pred_rf)\n",
        "plot_confusion_matrix(rf_confusion)\n",
        "\n",
        "# Classification report\n",
        "class_df_rf = pd.DataFrame(classification_report(y_test, pred_rf, output_dict = True))\n",
        "print(class_df_rf)\n",
        "\n",
        "from sklearn.metrics import accuracy_score\n",
        "print(rf_confusion)\n",
        "print('Results of applying model to test data:\\n')\n",
        "print(f'Recall: \\t\\t{round(rf_confusion[1][1]/(rf_confusion[1][1]+rf_confusion[1][0]),3)}')\n",
        "print(f'Precision: \\t\\t{round(rf_confusion[1][1]/(rf_confusion[1][1]+rf_confusion[0][1]),3)}')\n",
        "print(f'Accuracy: \\t\\t{round(accuracy_score(y_test, pred_rf),3)}')\n",
        "print(f'F1 score: \\t\\t{round(f1_score(y_test, pred_rf),3)}')"
      ],
      "metadata": {
        "id": "mzyJXIGp5UDu",
        "outputId": "5476518c-e953-4ac4-ae11-9f584e695eda",
        "colab": {
          "base_uri": "https://localhost:8080/",
          "height": 704
        }
      },
      "execution_count": 145,
      "outputs": [
        {
          "output_type": "stream",
          "name": "stdout",
          "text": [
            "                      0            1  accuracy     macro avg  weighted avg\n",
            "precision      0.994167     0.912598  0.979212      0.953382      0.980130\n",
            "recall         0.980645     0.972315  0.979212      0.976480      0.979212\n",
            "f1-score       0.987360     0.941511  0.979212      0.964435      0.979470\n",
            "support    11470.000000  2384.000000  0.979212  13854.000000  13854.000000\n",
            "[[11248   222]\n",
            " [   66  2318]]\n",
            "Results of applying model to test data:\n",
            "\n",
            "Recall: \t\t0.972\n",
            "Precision: \t\t0.913\n",
            "Accuracy: \t\t0.979\n",
            "F1 score: \t\t0.942\n"
          ]
        },
        {
          "output_type": "display_data",
          "data": {
            "text/plain": [
              "<Figure size 640x480 with 2 Axes>"
            ],
            "image/png": "[encoded data removed]"
          },
          "metadata": {}
        }
      ]
    },
    {
      "cell_type": "code",
      "source": [
        "# Factor importance\n",
        "import numpy as np\n",
        "def plot_feature_importances(model):\n",
        "    plt.rcParams[\"figure.figsize\"] = (6,4)\n",
        "    #locate indices of the features with feature importance greater than 0.01. Sort descending\n",
        "    indices = np.argsort(model.best_estimator_.feature_importances_)\n",
        "    indices = indices[-17:]\n",
        "\n",
        "    # Rearrange feature names so they match the sorted feature importances\n",
        "    columns_name = [X.columns[i] for i in indices]\n",
        "\n",
        "    #extract the number of features that have non-zero feature importance\n",
        "    n_features = X.iloc[:,indices].shape[1]\n",
        "\n",
        "    # Create plot\n",
        "    plt.figure()\n",
        "    plt.title(\"Feature Importance\")\n",
        "    plt.xlabel(\"Feature\")\n",
        "    plt.ylabel(\"Feature Importance\")\n",
        "    plt.barh(range(n_features), model.best_estimator_.feature_importances_[indices])\n",
        "    plt.yticks(range(n_features), columns_name)\n",
        "    plt.show()"
      ],
      "metadata": {
        "id": "kyihnXGP6248"
      },
      "execution_count": 154,
      "outputs": []
    },
    {
      "cell_type": "code",
      "source": [
        "plot_feature_importances(grid_search_rf)"
      ],
      "metadata": {
        "id": "SLrNg4Lf7E95",
        "outputId": "577b2cd9-27d6-4d7b-fb26-a07e0cecba11",
        "colab": {
          "base_uri": "https://localhost:8080/",
          "height": 410
        }
      },
      "execution_count": 155,
      "outputs": [
        {
          "output_type": "display_data",
          "data": {
            "text/plain": [
              "<Figure size 600x400 with 1 Axes>"
            ],
            "image/png": "[encoded data removed]"
          },
          "metadata": {}
        }
      ]
    },
    {
      "cell_type": "markdown",
      "source": [
        "\n",
        "\n",
        "---\n",
        "\n"
      ],
      "metadata": {
        "id": "4CsbaxoQ3VgU"
      }
    },
    {
      "cell_type": "markdown",
      "source": [
        "---\n",
        "## Question 8: Based on the research questions and instructions, determine which model, if any, you would choose. Justify whether or not you would deploy this model.\n",
        "---"
      ],
      "metadata": {
        "id": "eMBZph5HA6AN"
      }
    },
    {
      "cell_type": "markdown",
      "source": [
        "<b> Rationale: 350 word count limit </b>\n",
        "\n",
        "################################################################################\n",
        "\n",
        "(double-click here)\n",
        "\n",
        "\n",
        "################################################################################"
      ],
      "metadata": {
        "id": "AXP5G5nrA6AO"
      }
    },
    {
      "cell_type": "code",
      "source": [
        "# Python code here (10 lines limit, and 2 cells limit)\n"
      ],
      "metadata": {
        "id": "heyMLNJtA6AO"
      },
      "execution_count": null,
      "outputs": []
    },
    {
      "cell_type": "markdown",
      "source": [
        "\n",
        "\n",
        "---\n",
        "\n"
      ],
      "metadata": {
        "id": "l63_Jk0mA6AP"
      }
    },
    {
      "cell_type": "markdown",
      "source": [
        "---\n",
        "## Question 9:  Implement SHAP for the final model and describe your observations. If no model was selected in question 8, provide a justification and choose one model specifically for this SHAP analysis. Conclude by commenting on the results.\n",
        "---"
      ],
      "metadata": {
        "id": "u0Wb9iHWASdT"
      }
    },
    {
      "cell_type": "markdown",
      "source": [
        "<b> Explanation of what you observe - 250 word count limit:</b>\n",
        "\n",
        "################################################################################\n",
        "\n",
        "(double-click here)\n",
        "\n",
        "\n",
        "################################################################################"
      ],
      "metadata": {
        "id": "1IlYvZ83ASda"
      }
    },
    {
      "cell_type": "code",
      "source": [
        "# Python code here (10 lines limit, and 2 cells limit)\n"
      ],
      "metadata": {
        "id": "wh2VJms9ASda"
      },
      "execution_count": null,
      "outputs": []
    },
    {
      "cell_type": "markdown",
      "source": [
        "\n",
        "\n",
        "---\n",
        "\n"
      ],
      "metadata": {
        "id": "hrD9unXPAZQL"
      }
    },
    {
      "cell_type": "markdown",
      "metadata": {
        "id": "TYOVWp4ViKQq"
      },
      "source": [
        "© 2023 Copyright The University of New South Wales - CRICOS 00098G"
      ]
    }
  ],
  "metadata": {
    "colab": {
      "name": "Final-Assignment-Name-Surname.ipynb",
      "provenance": [],
      "collapsed_sections": [
        "IbpJocChpcTR",
        "PRlUipB2-nMX",
        "b3v2JXmp1o5W",
        "y2BLfWf9NmWf",
        "iTQtpo_8yvX3",
        "xwh91teY3VgL",
        "eMBZph5HA6AN",
        "u0Wb9iHWASdT"
      ],
      "include_colab_link": true
    },
    "interpreter": {
      "hash": "aee8b7b246df8f9039afb4144a1f6fd8d2ca17a180786b69acc140d282b71a49"
    },
    "kernelspec": {
      "display_name": "Python 3.7.4 64-bit",
      "language": "python",
      "name": "python3"
    },
    "language_info": {
      "codemirror_mode": {
        "name": "ipython",
        "version": 3
      },
      "file_extension": ".py",
      "mimetype": "text/x-python",
      "name": "python",
      "nbconvert_exporter": "python",
      "pygments_lexer": "ipython3",
      "version": "3.7.4"
    }
  },
  "nbformat": 4,
  "nbformat_minor": 0
}